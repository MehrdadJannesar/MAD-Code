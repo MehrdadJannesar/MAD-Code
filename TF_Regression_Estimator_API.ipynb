{
 "cells": [
  {
   "cell_type": "code",
   "execution_count": 1,
   "metadata": {},
   "outputs": [
    {
     "name": "stderr",
     "output_type": "stream",
     "text": [
      "C:\\Python\\Anaconda3\\lib\\importlib\\_bootstrap.py:219: RuntimeWarning: numpy.ufunc size changed, may indicate binary incompatibility. Expected 192 from C header, got 216 from PyObject\n",
      "  return f(*args, **kwds)\n"
     ]
    }
   ],
   "source": [
    "import numpy as np\n",
    "import pandas as pd\n",
    "import matplotlib.pyplot as plt\n",
    "%matplotlib inline"
   ]
  },
  {
   "cell_type": "code",
   "execution_count": 2,
   "metadata": {},
   "outputs": [
    {
     "name": "stderr",
     "output_type": "stream",
     "text": [
      "C:\\Python\\Anaconda3\\lib\\importlib\\_bootstrap.py:219: RuntimeWarning: numpy.ufunc size changed, may indicate binary incompatibility. Expected 192 from C header, got 216 from PyObject\n",
      "  return f(*args, **kwds)\n",
      "C:\\Python\\Anaconda3\\lib\\importlib\\_bootstrap.py:219: RuntimeWarning: numpy.ufunc size changed, may indicate binary incompatibility. Expected 192 from C header, got 216 from PyObject\n",
      "  return f(*args, **kwds)\n"
     ]
    }
   ],
   "source": [
    "import tensorflow as tf"
   ]
  },
  {
   "cell_type": "code",
   "execution_count": 3,
   "metadata": {},
   "outputs": [],
   "source": [
    "X_data = np.linspace(0.0,10.0,1000000)"
   ]
  },
  {
   "cell_type": "code",
   "execution_count": 4,
   "metadata": {},
   "outputs": [],
   "source": [
    "noise = np.random.randn(len(X_data))"
   ]
  },
  {
   "cell_type": "code",
   "execution_count": 5,
   "metadata": {},
   "outputs": [
    {
     "data": {
      "text/plain": [
       "(1000000,)"
      ]
     },
     "execution_count": 5,
     "metadata": {},
     "output_type": "execute_result"
    }
   ],
   "source": [
    "noise.shape"
   ]
  },
  {
   "cell_type": "code",
   "execution_count": 6,
   "metadata": {},
   "outputs": [],
   "source": [
    "# y = mx + b"
   ]
  },
  {
   "cell_type": "code",
   "execution_count": 7,
   "metadata": {},
   "outputs": [],
   "source": [
    "y_true = (0.5 * X_data) + 5 + noise"
   ]
  },
  {
   "cell_type": "code",
   "execution_count": 8,
   "metadata": {},
   "outputs": [],
   "source": [
    "x_df = pd.DataFrame(data = X_data,columns=['X Data'])"
   ]
  },
  {
   "cell_type": "code",
   "execution_count": 9,
   "metadata": {},
   "outputs": [],
   "source": [
    "y_df = pd.DataFrame(data = y_true, columns=['Y'])"
   ]
  },
  {
   "cell_type": "code",
   "execution_count": 10,
   "metadata": {},
   "outputs": [
    {
     "data": {
      "text/html": [
       "<div>\n",
       "<style scoped>\n",
       "    .dataframe tbody tr th:only-of-type {\n",
       "        vertical-align: middle;\n",
       "    }\n",
       "\n",
       "    .dataframe tbody tr th {\n",
       "        vertical-align: top;\n",
       "    }\n",
       "\n",
       "    .dataframe thead th {\n",
       "        text-align: right;\n",
       "    }\n",
       "</style>\n",
       "<table border=\"1\" class=\"dataframe\">\n",
       "  <thead>\n",
       "    <tr style=\"text-align: right;\">\n",
       "      <th></th>\n",
       "      <th>Y</th>\n",
       "    </tr>\n",
       "  </thead>\n",
       "  <tbody>\n",
       "    <tr>\n",
       "      <th>0</th>\n",
       "      <td>6.126388</td>\n",
       "    </tr>\n",
       "    <tr>\n",
       "      <th>1</th>\n",
       "      <td>5.239263</td>\n",
       "    </tr>\n",
       "    <tr>\n",
       "      <th>2</th>\n",
       "      <td>6.408058</td>\n",
       "    </tr>\n",
       "    <tr>\n",
       "      <th>3</th>\n",
       "      <td>4.726421</td>\n",
       "    </tr>\n",
       "    <tr>\n",
       "      <th>4</th>\n",
       "      <td>4.476228</td>\n",
       "    </tr>\n",
       "  </tbody>\n",
       "</table>\n",
       "</div>"
      ],
      "text/plain": [
       "          Y\n",
       "0  6.126388\n",
       "1  5.239263\n",
       "2  6.408058\n",
       "3  4.726421\n",
       "4  4.476228"
      ]
     },
     "execution_count": 10,
     "metadata": {},
     "output_type": "execute_result"
    }
   ],
   "source": [
    "y_df.head()"
   ]
  },
  {
   "cell_type": "code",
   "execution_count": 12,
   "metadata": {},
   "outputs": [],
   "source": [
    "my_data = pd.concat([x_df,y_df],axis=1)"
   ]
  },
  {
   "cell_type": "code",
   "execution_count": 13,
   "metadata": {},
   "outputs": [
    {
     "data": {
      "text/html": [
       "<div>\n",
       "<style scoped>\n",
       "    .dataframe tbody tr th:only-of-type {\n",
       "        vertical-align: middle;\n",
       "    }\n",
       "\n",
       "    .dataframe tbody tr th {\n",
       "        vertical-align: top;\n",
       "    }\n",
       "\n",
       "    .dataframe thead th {\n",
       "        text-align: right;\n",
       "    }\n",
       "</style>\n",
       "<table border=\"1\" class=\"dataframe\">\n",
       "  <thead>\n",
       "    <tr style=\"text-align: right;\">\n",
       "      <th></th>\n",
       "      <th>X Data</th>\n",
       "      <th>Y</th>\n",
       "    </tr>\n",
       "  </thead>\n",
       "  <tbody>\n",
       "    <tr>\n",
       "      <th>0</th>\n",
       "      <td>0.00000</td>\n",
       "      <td>6.126388</td>\n",
       "    </tr>\n",
       "    <tr>\n",
       "      <th>1</th>\n",
       "      <td>0.00001</td>\n",
       "      <td>5.239263</td>\n",
       "    </tr>\n",
       "    <tr>\n",
       "      <th>2</th>\n",
       "      <td>0.00002</td>\n",
       "      <td>6.408058</td>\n",
       "    </tr>\n",
       "    <tr>\n",
       "      <th>3</th>\n",
       "      <td>0.00003</td>\n",
       "      <td>4.726421</td>\n",
       "    </tr>\n",
       "    <tr>\n",
       "      <th>4</th>\n",
       "      <td>0.00004</td>\n",
       "      <td>4.476228</td>\n",
       "    </tr>\n",
       "  </tbody>\n",
       "</table>\n",
       "</div>"
      ],
      "text/plain": [
       "    X Data         Y\n",
       "0  0.00000  6.126388\n",
       "1  0.00001  5.239263\n",
       "2  0.00002  6.408058\n",
       "3  0.00003  4.726421\n",
       "4  0.00004  4.476228"
      ]
     },
     "execution_count": 13,
     "metadata": {},
     "output_type": "execute_result"
    }
   ],
   "source": [
    "my_data.head()"
   ]
  },
  {
   "cell_type": "code",
   "execution_count": 14,
   "metadata": {
    "scrolled": true
   },
   "outputs": [
    {
     "data": {
      "text/html": [
       "<div>\n",
       "<style scoped>\n",
       "    .dataframe tbody tr th:only-of-type {\n",
       "        vertical-align: middle;\n",
       "    }\n",
       "\n",
       "    .dataframe tbody tr th {\n",
       "        vertical-align: top;\n",
       "    }\n",
       "\n",
       "    .dataframe thead th {\n",
       "        text-align: right;\n",
       "    }\n",
       "</style>\n",
       "<table border=\"1\" class=\"dataframe\">\n",
       "  <thead>\n",
       "    <tr style=\"text-align: right;\">\n",
       "      <th></th>\n",
       "      <th>X Data</th>\n",
       "      <th>Y</th>\n",
       "    </tr>\n",
       "  </thead>\n",
       "  <tbody>\n",
       "    <tr>\n",
       "      <th>422064</th>\n",
       "      <td>4.220644</td>\n",
       "      <td>6.671154</td>\n",
       "    </tr>\n",
       "    <tr>\n",
       "      <th>34328</th>\n",
       "      <td>0.343280</td>\n",
       "      <td>5.465070</td>\n",
       "    </tr>\n",
       "    <tr>\n",
       "      <th>852272</th>\n",
       "      <td>8.522729</td>\n",
       "      <td>11.087245</td>\n",
       "    </tr>\n",
       "    <tr>\n",
       "      <th>217206</th>\n",
       "      <td>2.172062</td>\n",
       "      <td>5.374765</td>\n",
       "    </tr>\n",
       "    <tr>\n",
       "      <th>440938</th>\n",
       "      <td>4.409384</td>\n",
       "      <td>7.616535</td>\n",
       "    </tr>\n",
       "    <tr>\n",
       "      <th>385109</th>\n",
       "      <td>3.851094</td>\n",
       "      <td>7.343764</td>\n",
       "    </tr>\n",
       "    <tr>\n",
       "      <th>323575</th>\n",
       "      <td>3.235753</td>\n",
       "      <td>9.374863</td>\n",
       "    </tr>\n",
       "    <tr>\n",
       "      <th>528980</th>\n",
       "      <td>5.289805</td>\n",
       "      <td>8.399142</td>\n",
       "    </tr>\n",
       "    <tr>\n",
       "      <th>412511</th>\n",
       "      <td>4.125114</td>\n",
       "      <td>8.619820</td>\n",
       "    </tr>\n",
       "    <tr>\n",
       "      <th>153259</th>\n",
       "      <td>1.532592</td>\n",
       "      <td>6.925422</td>\n",
       "    </tr>\n",
       "    <tr>\n",
       "      <th>517453</th>\n",
       "      <td>5.174535</td>\n",
       "      <td>6.837782</td>\n",
       "    </tr>\n",
       "    <tr>\n",
       "      <th>996041</th>\n",
       "      <td>9.960420</td>\n",
       "      <td>8.819811</td>\n",
       "    </tr>\n",
       "    <tr>\n",
       "      <th>353818</th>\n",
       "      <td>3.538184</td>\n",
       "      <td>7.111213</td>\n",
       "    </tr>\n",
       "    <tr>\n",
       "      <th>974607</th>\n",
       "      <td>9.746080</td>\n",
       "      <td>10.275964</td>\n",
       "    </tr>\n",
       "    <tr>\n",
       "      <th>769305</th>\n",
       "      <td>7.693058</td>\n",
       "      <td>5.345936</td>\n",
       "    </tr>\n",
       "    <tr>\n",
       "      <th>423715</th>\n",
       "      <td>4.237154</td>\n",
       "      <td>8.166395</td>\n",
       "    </tr>\n",
       "    <tr>\n",
       "      <th>942722</th>\n",
       "      <td>9.427229</td>\n",
       "      <td>9.123997</td>\n",
       "    </tr>\n",
       "    <tr>\n",
       "      <th>884417</th>\n",
       "      <td>8.844179</td>\n",
       "      <td>9.040885</td>\n",
       "    </tr>\n",
       "    <tr>\n",
       "      <th>22374</th>\n",
       "      <td>0.223740</td>\n",
       "      <td>5.314048</td>\n",
       "    </tr>\n",
       "    <tr>\n",
       "      <th>875668</th>\n",
       "      <td>8.756689</td>\n",
       "      <td>8.487453</td>\n",
       "    </tr>\n",
       "    <tr>\n",
       "      <th>437175</th>\n",
       "      <td>4.371754</td>\n",
       "      <td>7.559246</td>\n",
       "    </tr>\n",
       "    <tr>\n",
       "      <th>131413</th>\n",
       "      <td>1.314131</td>\n",
       "      <td>6.528502</td>\n",
       "    </tr>\n",
       "    <tr>\n",
       "      <th>306171</th>\n",
       "      <td>3.061713</td>\n",
       "      <td>6.084877</td>\n",
       "    </tr>\n",
       "    <tr>\n",
       "      <th>323029</th>\n",
       "      <td>3.230293</td>\n",
       "      <td>6.477717</td>\n",
       "    </tr>\n",
       "    <tr>\n",
       "      <th>360828</th>\n",
       "      <td>3.608284</td>\n",
       "      <td>6.986349</td>\n",
       "    </tr>\n",
       "    <tr>\n",
       "      <th>660023</th>\n",
       "      <td>6.600237</td>\n",
       "      <td>8.010095</td>\n",
       "    </tr>\n",
       "    <tr>\n",
       "      <th>563057</th>\n",
       "      <td>5.630576</td>\n",
       "      <td>7.802167</td>\n",
       "    </tr>\n",
       "    <tr>\n",
       "      <th>779096</th>\n",
       "      <td>7.790968</td>\n",
       "      <td>8.462936</td>\n",
       "    </tr>\n",
       "    <tr>\n",
       "      <th>653246</th>\n",
       "      <td>6.532467</td>\n",
       "      <td>8.399797</td>\n",
       "    </tr>\n",
       "    <tr>\n",
       "      <th>564421</th>\n",
       "      <td>5.644216</td>\n",
       "      <td>6.816253</td>\n",
       "    </tr>\n",
       "    <tr>\n",
       "      <th>...</th>\n",
       "      <td>...</td>\n",
       "      <td>...</td>\n",
       "    </tr>\n",
       "    <tr>\n",
       "      <th>933812</th>\n",
       "      <td>9.338129</td>\n",
       "      <td>11.637800</td>\n",
       "    </tr>\n",
       "    <tr>\n",
       "      <th>76418</th>\n",
       "      <td>0.764181</td>\n",
       "      <td>5.700296</td>\n",
       "    </tr>\n",
       "    <tr>\n",
       "      <th>882629</th>\n",
       "      <td>8.826299</td>\n",
       "      <td>8.718460</td>\n",
       "    </tr>\n",
       "    <tr>\n",
       "      <th>916479</th>\n",
       "      <td>9.164799</td>\n",
       "      <td>8.472411</td>\n",
       "    </tr>\n",
       "    <tr>\n",
       "      <th>223607</th>\n",
       "      <td>2.236072</td>\n",
       "      <td>6.188452</td>\n",
       "    </tr>\n",
       "    <tr>\n",
       "      <th>713234</th>\n",
       "      <td>7.132347</td>\n",
       "      <td>9.095358</td>\n",
       "    </tr>\n",
       "    <tr>\n",
       "      <th>530450</th>\n",
       "      <td>5.304505</td>\n",
       "      <td>5.810268</td>\n",
       "    </tr>\n",
       "    <tr>\n",
       "      <th>67507</th>\n",
       "      <td>0.675071</td>\n",
       "      <td>4.931730</td>\n",
       "    </tr>\n",
       "    <tr>\n",
       "      <th>14703</th>\n",
       "      <td>0.147030</td>\n",
       "      <td>4.144856</td>\n",
       "    </tr>\n",
       "    <tr>\n",
       "      <th>466138</th>\n",
       "      <td>4.661385</td>\n",
       "      <td>6.163077</td>\n",
       "    </tr>\n",
       "    <tr>\n",
       "      <th>595102</th>\n",
       "      <td>5.951026</td>\n",
       "      <td>7.967127</td>\n",
       "    </tr>\n",
       "    <tr>\n",
       "      <th>718154</th>\n",
       "      <td>7.181547</td>\n",
       "      <td>8.479527</td>\n",
       "    </tr>\n",
       "    <tr>\n",
       "      <th>317303</th>\n",
       "      <td>3.173033</td>\n",
       "      <td>6.682390</td>\n",
       "    </tr>\n",
       "    <tr>\n",
       "      <th>255586</th>\n",
       "      <td>2.555863</td>\n",
       "      <td>7.068702</td>\n",
       "    </tr>\n",
       "    <tr>\n",
       "      <th>702014</th>\n",
       "      <td>7.020147</td>\n",
       "      <td>8.459203</td>\n",
       "    </tr>\n",
       "    <tr>\n",
       "      <th>327186</th>\n",
       "      <td>3.271863</td>\n",
       "      <td>5.668047</td>\n",
       "    </tr>\n",
       "    <tr>\n",
       "      <th>716501</th>\n",
       "      <td>7.165017</td>\n",
       "      <td>6.364462</td>\n",
       "    </tr>\n",
       "    <tr>\n",
       "      <th>159827</th>\n",
       "      <td>1.598272</td>\n",
       "      <td>6.203183</td>\n",
       "    </tr>\n",
       "    <tr>\n",
       "      <th>489934</th>\n",
       "      <td>4.899345</td>\n",
       "      <td>7.901704</td>\n",
       "    </tr>\n",
       "    <tr>\n",
       "      <th>504689</th>\n",
       "      <td>5.046895</td>\n",
       "      <td>6.849748</td>\n",
       "    </tr>\n",
       "    <tr>\n",
       "      <th>908366</th>\n",
       "      <td>9.083669</td>\n",
       "      <td>9.099021</td>\n",
       "    </tr>\n",
       "    <tr>\n",
       "      <th>940053</th>\n",
       "      <td>9.400539</td>\n",
       "      <td>10.156721</td>\n",
       "    </tr>\n",
       "    <tr>\n",
       "      <th>687761</th>\n",
       "      <td>6.877617</td>\n",
       "      <td>6.439806</td>\n",
       "    </tr>\n",
       "    <tr>\n",
       "      <th>199882</th>\n",
       "      <td>1.998822</td>\n",
       "      <td>3.726669</td>\n",
       "    </tr>\n",
       "    <tr>\n",
       "      <th>994838</th>\n",
       "      <td>9.948390</td>\n",
       "      <td>10.940897</td>\n",
       "    </tr>\n",
       "    <tr>\n",
       "      <th>906102</th>\n",
       "      <td>9.061029</td>\n",
       "      <td>9.481508</td>\n",
       "    </tr>\n",
       "    <tr>\n",
       "      <th>361569</th>\n",
       "      <td>3.615694</td>\n",
       "      <td>6.583156</td>\n",
       "    </tr>\n",
       "    <tr>\n",
       "      <th>354737</th>\n",
       "      <td>3.547374</td>\n",
       "      <td>7.084167</td>\n",
       "    </tr>\n",
       "    <tr>\n",
       "      <th>477373</th>\n",
       "      <td>4.773735</td>\n",
       "      <td>7.177848</td>\n",
       "    </tr>\n",
       "    <tr>\n",
       "      <th>322971</th>\n",
       "      <td>3.229713</td>\n",
       "      <td>7.700554</td>\n",
       "    </tr>\n",
       "  </tbody>\n",
       "</table>\n",
       "<p>250 rows × 2 columns</p>\n",
       "</div>"
      ],
      "text/plain": [
       "          X Data          Y\n",
       "422064  4.220644   6.671154\n",
       "34328   0.343280   5.465070\n",
       "852272  8.522729  11.087245\n",
       "217206  2.172062   5.374765\n",
       "440938  4.409384   7.616535\n",
       "385109  3.851094   7.343764\n",
       "323575  3.235753   9.374863\n",
       "528980  5.289805   8.399142\n",
       "412511  4.125114   8.619820\n",
       "153259  1.532592   6.925422\n",
       "517453  5.174535   6.837782\n",
       "996041  9.960420   8.819811\n",
       "353818  3.538184   7.111213\n",
       "974607  9.746080  10.275964\n",
       "769305  7.693058   5.345936\n",
       "423715  4.237154   8.166395\n",
       "942722  9.427229   9.123997\n",
       "884417  8.844179   9.040885\n",
       "22374   0.223740   5.314048\n",
       "875668  8.756689   8.487453\n",
       "437175  4.371754   7.559246\n",
       "131413  1.314131   6.528502\n",
       "306171  3.061713   6.084877\n",
       "323029  3.230293   6.477717\n",
       "360828  3.608284   6.986349\n",
       "660023  6.600237   8.010095\n",
       "563057  5.630576   7.802167\n",
       "779096  7.790968   8.462936\n",
       "653246  6.532467   8.399797\n",
       "564421  5.644216   6.816253\n",
       "...          ...        ...\n",
       "933812  9.338129  11.637800\n",
       "76418   0.764181   5.700296\n",
       "882629  8.826299   8.718460\n",
       "916479  9.164799   8.472411\n",
       "223607  2.236072   6.188452\n",
       "713234  7.132347   9.095358\n",
       "530450  5.304505   5.810268\n",
       "67507   0.675071   4.931730\n",
       "14703   0.147030   4.144856\n",
       "466138  4.661385   6.163077\n",
       "595102  5.951026   7.967127\n",
       "718154  7.181547   8.479527\n",
       "317303  3.173033   6.682390\n",
       "255586  2.555863   7.068702\n",
       "702014  7.020147   8.459203\n",
       "327186  3.271863   5.668047\n",
       "716501  7.165017   6.364462\n",
       "159827  1.598272   6.203183\n",
       "489934  4.899345   7.901704\n",
       "504689  5.046895   6.849748\n",
       "908366  9.083669   9.099021\n",
       "940053  9.400539  10.156721\n",
       "687761  6.877617   6.439806\n",
       "199882  1.998822   3.726669\n",
       "994838  9.948390  10.940897\n",
       "906102  9.061029   9.481508\n",
       "361569  3.615694   6.583156\n",
       "354737  3.547374   7.084167\n",
       "477373  4.773735   7.177848\n",
       "322971  3.229713   7.700554\n",
       "\n",
       "[250 rows x 2 columns]"
      ]
     },
     "execution_count": 14,
     "metadata": {},
     "output_type": "execute_result"
    }
   ],
   "source": [
    "my_data.sample(n=250)"
   ]
  },
  {
   "cell_type": "code",
   "execution_count": 15,
   "metadata": {},
   "outputs": [
    {
     "data": {
      "text/plain": [
       "<matplotlib.axes._subplots.AxesSubplot at 0x1cc169e85c0>"
      ]
     },
     "execution_count": 15,
     "metadata": {},
     "output_type": "execute_result"
    },
    {
     "data": {
      "image/png": "[encoded data removed]",
      "text/plain": [
       "<Figure size 432x288 with 1 Axes>"
      ]
     },
     "metadata": {
      "needs_background": "light"
     },
     "output_type": "display_data"
    }
   ],
   "source": [
    "my_data.sample(n=250).plot(kind='scatter',x = 'X Data',y = 'Y')"
   ]
  },
  {
   "cell_type": "code",
   "execution_count": 16,
   "metadata": {},
   "outputs": [],
   "source": [
    "batch_size = 8"
   ]
  },
  {
   "cell_type": "code",
   "execution_count": 17,
   "metadata": {},
   "outputs": [
    {
     "data": {
      "text/plain": [
       "array([0.53237955, 0.77836218])"
      ]
     },
     "execution_count": 17,
     "metadata": {},
     "output_type": "execute_result"
    }
   ],
   "source": [
    "np.random.randn(2)"
   ]
  },
  {
   "cell_type": "code",
   "execution_count": 18,
   "metadata": {},
   "outputs": [],
   "source": [
    "m = tf.Variable(0.53237955)\n",
    "b = tf.Variable(0.77836218)"
   ]
  },
  {
   "cell_type": "code",
   "execution_count": 19,
   "metadata": {},
   "outputs": [],
   "source": [
    "X_placeholder = tf.placeholder(tf.float32,[batch_size])"
   ]
  },
  {
   "cell_type": "code",
   "execution_count": 20,
   "metadata": {},
   "outputs": [],
   "source": [
    "y_placeholder = tf.placeholder(tf.float32,[batch_size])"
   ]
  },
  {
   "cell_type": "code",
   "execution_count": 21,
   "metadata": {},
   "outputs": [],
   "source": [
    "y_model = m * X_placeholder + b"
   ]
  },
  {
   "cell_type": "code",
   "execution_count": 22,
   "metadata": {},
   "outputs": [],
   "source": [
    "error = tf.reduce_sum(tf.square(y_placeholder - y_model))"
   ]
  },
  {
   "cell_type": "code",
   "execution_count": 23,
   "metadata": {},
   "outputs": [],
   "source": [
    "optimizer = tf.train.GradientDescentOptimizer(0.001)"
   ]
  },
  {
   "cell_type": "code",
   "execution_count": 24,
   "metadata": {},
   "outputs": [],
   "source": [
    "train = optimizer.minimize(error)"
   ]
  },
  {
   "cell_type": "code",
   "execution_count": 25,
   "metadata": {},
   "outputs": [],
   "source": [
    "init = tf.global_variables_initializer()"
   ]
  },
  {
   "cell_type": "code",
   "execution_count": 29,
   "metadata": {},
   "outputs": [],
   "source": [
    "with tf.Session() as sess:\n",
    "    sess.run(init)\n",
    "    \n",
    "    epochs = 100000\n",
    "    \n",
    "    for i in range(epochs):\n",
    "        \n",
    "        rand_ind = np.random.randint(len(X_data),size = batch_size)\n",
    "        \n",
    "        feed = {X_placeholder: X_data[rand_ind], y_placeholder: y_true[rand_ind]}\n",
    "        sess.run(train, feed_dict=feed)\n",
    "        \n",
    "    model_m, model_b = sess.run([m,b])"
   ]
  },
  {
   "cell_type": "code",
   "execution_count": 30,
   "metadata": {},
   "outputs": [
    {
     "data": {
      "text/plain": [
       "0.48238355"
      ]
     },
     "execution_count": 30,
     "metadata": {},
     "output_type": "execute_result"
    }
   ],
   "source": [
    "model_m"
   ]
  },
  {
   "cell_type": "code",
   "execution_count": 31,
   "metadata": {},
   "outputs": [
    {
     "data": {
      "text/plain": [
       "4.9821095"
      ]
     },
     "execution_count": 31,
     "metadata": {},
     "output_type": "execute_result"
    }
   ],
   "source": [
    "model_b"
   ]
  },
  {
   "cell_type": "code",
   "execution_count": 32,
   "metadata": {},
   "outputs": [],
   "source": [
    "# y = xm + b\n",
    "y_hat = X_data * model_m + model_b"
   ]
  },
  {
   "cell_type": "code",
   "execution_count": 33,
   "metadata": {},
   "outputs": [
    {
     "data": {
      "text/plain": [
       "[<matplotlib.lines.Line2D at 0x1cc195e3dd8>]"
      ]
     },
     "execution_count": 33,
     "metadata": {},
     "output_type": "execute_result"
    },
    {
     "data": {
      "image/png": "[encoded data removed]",
      "text/plain": [
       "<Figure size 432x288 with 1 Axes>"
      ]
     },
     "metadata": {
      "needs_background": "light"
     },
     "output_type": "display_data"
    }
   ],
   "source": [
    "my_data.sample(250).plot(kind='scatter',x = 'X Data', y= 'Y')\n",
    "plt.plot(X_data,y_hat, 'r')"
   ]
  },
  {
   "cell_type": "code",
   "execution_count": null,
   "metadata": {},
   "outputs": [],
   "source": []
  }
 ],
 "metadata": {
  "kernelspec": {
   "display_name": "Python 3",
   "language": "python",
   "name": "python3"
  },
  "language_info": {
   "codemirror_mode": {
    "name": "ipython",
    "version": 3
   },
   "file_extension": ".py",
   "mimetype": "text/x-python",
   "name": "python",
   "nbconvert_exporter": "python",
   "pygments_lexer": "ipython3",
   "version": "3.7.3"
  }
 },
 "nbformat": 4,
 "nbformat_minor": 2
}
