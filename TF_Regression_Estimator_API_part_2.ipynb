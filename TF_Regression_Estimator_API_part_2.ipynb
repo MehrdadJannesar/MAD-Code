{
 "cells": [
  {
   "cell_type": "code",
   "execution_count": 1,
   "metadata": {},
   "outputs": [],
   "source": [
    "import numpy as np\n",
    "import pandas as pd\n",
    "import matplotlib.pyplot as plt\n",
    "%matplotlib inline"
   ]
  },
  {
   "cell_type": "code",
   "execution_count": 2,
   "metadata": {},
   "outputs": [],
   "source": [
    "import tensorflow as tf"
   ]
  },
  {
   "cell_type": "code",
   "execution_count": 3,
   "metadata": {},
   "outputs": [],
   "source": [
    "X_data = np.linspace(0.0,10.0,1000000)"
   ]
  },
  {
   "cell_type": "code",
   "execution_count": 4,
   "metadata": {},
   "outputs": [],
   "source": [
    "noise = np.random.randn(len(X_data))"
   ]
  },
  {
   "cell_type": "code",
   "execution_count": 5,
   "metadata": {},
   "outputs": [
    {
     "data": {
      "text/plain": [
       "(1000000,)"
      ]
     },
     "execution_count": 5,
     "metadata": {},
     "output_type": "execute_result"
    }
   ],
   "source": [
    "noise.shape"
   ]
  },
  {
   "cell_type": "code",
   "execution_count": 6,
   "metadata": {},
   "outputs": [],
   "source": [
    "# y = mx + b"
   ]
  },
  {
   "cell_type": "code",
   "execution_count": 7,
   "metadata": {},
   "outputs": [],
   "source": [
    "y_true = (0.5 * X_data) + 5 + noise"
   ]
  },
  {
   "cell_type": "code",
   "execution_count": 8,
   "metadata": {},
   "outputs": [],
   "source": [
    "x_df = pd.DataFrame(data = X_data,columns=['X Data'])"
   ]
  },
  {
   "cell_type": "code",
   "execution_count": 9,
   "metadata": {},
   "outputs": [],
   "source": [
    "y_df = pd.DataFrame(data = y_true, columns=['Y'])"
   ]
  },
  {
   "cell_type": "code",
   "execution_count": 10,
   "metadata": {},
   "outputs": [
    {
     "data": {
      "text/html": [
       "<div>\n",
       "<style scoped>\n",
       "    .dataframe tbody tr th:only-of-type {\n",
       "        vertical-align: middle;\n",
       "    }\n",
       "\n",
       "    .dataframe tbody tr th {\n",
       "        vertical-align: top;\n",
       "    }\n",
       "\n",
       "    .dataframe thead th {\n",
       "        text-align: right;\n",
       "    }\n",
       "</style>\n",
       "<table border=\"1\" class=\"dataframe\">\n",
       "  <thead>\n",
       "    <tr style=\"text-align: right;\">\n",
       "      <th></th>\n",
       "      <th>Y</th>\n",
       "    </tr>\n",
       "  </thead>\n",
       "  <tbody>\n",
       "    <tr>\n",
       "      <th>0</th>\n",
       "      <td>6.813535</td>\n",
       "    </tr>\n",
       "    <tr>\n",
       "      <th>1</th>\n",
       "      <td>6.053477</td>\n",
       "    </tr>\n",
       "    <tr>\n",
       "      <th>2</th>\n",
       "      <td>5.541898</td>\n",
       "    </tr>\n",
       "    <tr>\n",
       "      <th>3</th>\n",
       "      <td>4.410819</td>\n",
       "    </tr>\n",
       "    <tr>\n",
       "      <th>4</th>\n",
       "      <td>4.777153</td>\n",
       "    </tr>\n",
       "  </tbody>\n",
       "</table>\n",
       "</div>"
      ],
      "text/plain": [
       "          Y\n",
       "0  6.813535\n",
       "1  6.053477\n",
       "2  5.541898\n",
       "3  4.410819\n",
       "4  4.777153"
      ]
     },
     "execution_count": 10,
     "metadata": {},
     "output_type": "execute_result"
    }
   ],
   "source": [
    "y_df.head()"
   ]
  },
  {
   "cell_type": "code",
   "execution_count": 11,
   "metadata": {},
   "outputs": [],
   "source": [
    "my_data = pd.concat([x_df,y_df],axis=1)"
   ]
  },
  {
   "cell_type": "code",
   "execution_count": 12,
   "metadata": {},
   "outputs": [
    {
     "data": {
      "text/html": [
       "<div>\n",
       "<style scoped>\n",
       "    .dataframe tbody tr th:only-of-type {\n",
       "        vertical-align: middle;\n",
       "    }\n",
       "\n",
       "    .dataframe tbody tr th {\n",
       "        vertical-align: top;\n",
       "    }\n",
       "\n",
       "    .dataframe thead th {\n",
       "        text-align: right;\n",
       "    }\n",
       "</style>\n",
       "<table border=\"1\" class=\"dataframe\">\n",
       "  <thead>\n",
       "    <tr style=\"text-align: right;\">\n",
       "      <th></th>\n",
       "      <th>X Data</th>\n",
       "      <th>Y</th>\n",
       "    </tr>\n",
       "  </thead>\n",
       "  <tbody>\n",
       "    <tr>\n",
       "      <th>0</th>\n",
       "      <td>0.00000</td>\n",
       "      <td>6.813535</td>\n",
       "    </tr>\n",
       "    <tr>\n",
       "      <th>1</th>\n",
       "      <td>0.00001</td>\n",
       "      <td>6.053477</td>\n",
       "    </tr>\n",
       "    <tr>\n",
       "      <th>2</th>\n",
       "      <td>0.00002</td>\n",
       "      <td>5.541898</td>\n",
       "    </tr>\n",
       "    <tr>\n",
       "      <th>3</th>\n",
       "      <td>0.00003</td>\n",
       "      <td>4.410819</td>\n",
       "    </tr>\n",
       "    <tr>\n",
       "      <th>4</th>\n",
       "      <td>0.00004</td>\n",
       "      <td>4.777153</td>\n",
       "    </tr>\n",
       "  </tbody>\n",
       "</table>\n",
       "</div>"
      ],
      "text/plain": [
       "    X Data         Y\n",
       "0  0.00000  6.813535\n",
       "1  0.00001  6.053477\n",
       "2  0.00002  5.541898\n",
       "3  0.00003  4.410819\n",
       "4  0.00004  4.777153"
      ]
     },
     "execution_count": 12,
     "metadata": {},
     "output_type": "execute_result"
    }
   ],
   "source": [
    "my_data.head()"
   ]
  },
  {
   "cell_type": "code",
   "execution_count": 13,
   "metadata": {
    "scrolled": true
   },
   "outputs": [
    {
     "data": {
      "text/html": [
       "<div>\n",
       "<style scoped>\n",
       "    .dataframe tbody tr th:only-of-type {\n",
       "        vertical-align: middle;\n",
       "    }\n",
       "\n",
       "    .dataframe tbody tr th {\n",
       "        vertical-align: top;\n",
       "    }\n",
       "\n",
       "    .dataframe thead th {\n",
       "        text-align: right;\n",
       "    }\n",
       "</style>\n",
       "<table border=\"1\" class=\"dataframe\">\n",
       "  <thead>\n",
       "    <tr style=\"text-align: right;\">\n",
       "      <th></th>\n",
       "      <th>X Data</th>\n",
       "      <th>Y</th>\n",
       "    </tr>\n",
       "  </thead>\n",
       "  <tbody>\n",
       "    <tr>\n",
       "      <th>243243</th>\n",
       "      <td>2.432432</td>\n",
       "      <td>5.817477</td>\n",
       "    </tr>\n",
       "    <tr>\n",
       "      <th>990018</th>\n",
       "      <td>9.900190</td>\n",
       "      <td>11.406724</td>\n",
       "    </tr>\n",
       "    <tr>\n",
       "      <th>764347</th>\n",
       "      <td>7.643478</td>\n",
       "      <td>8.896461</td>\n",
       "    </tr>\n",
       "    <tr>\n",
       "      <th>226053</th>\n",
       "      <td>2.260532</td>\n",
       "      <td>7.692620</td>\n",
       "    </tr>\n",
       "    <tr>\n",
       "      <th>565688</th>\n",
       "      <td>5.656886</td>\n",
       "      <td>8.305856</td>\n",
       "    </tr>\n",
       "    <tr>\n",
       "      <th>191072</th>\n",
       "      <td>1.910722</td>\n",
       "      <td>3.658712</td>\n",
       "    </tr>\n",
       "    <tr>\n",
       "      <th>210913</th>\n",
       "      <td>2.109132</td>\n",
       "      <td>7.281594</td>\n",
       "    </tr>\n",
       "    <tr>\n",
       "      <th>669609</th>\n",
       "      <td>6.696097</td>\n",
       "      <td>7.904554</td>\n",
       "    </tr>\n",
       "    <tr>\n",
       "      <th>351887</th>\n",
       "      <td>3.518874</td>\n",
       "      <td>5.492796</td>\n",
       "    </tr>\n",
       "    <tr>\n",
       "      <th>959272</th>\n",
       "      <td>9.592730</td>\n",
       "      <td>12.078271</td>\n",
       "    </tr>\n",
       "    <tr>\n",
       "      <th>11387</th>\n",
       "      <td>0.113870</td>\n",
       "      <td>5.027079</td>\n",
       "    </tr>\n",
       "    <tr>\n",
       "      <th>454129</th>\n",
       "      <td>4.541295</td>\n",
       "      <td>6.954602</td>\n",
       "    </tr>\n",
       "    <tr>\n",
       "      <th>264493</th>\n",
       "      <td>2.644933</td>\n",
       "      <td>5.376118</td>\n",
       "    </tr>\n",
       "    <tr>\n",
       "      <th>360942</th>\n",
       "      <td>3.609424</td>\n",
       "      <td>7.377012</td>\n",
       "    </tr>\n",
       "    <tr>\n",
       "      <th>539471</th>\n",
       "      <td>5.394715</td>\n",
       "      <td>6.095059</td>\n",
       "    </tr>\n",
       "    <tr>\n",
       "      <th>571269</th>\n",
       "      <td>5.712696</td>\n",
       "      <td>7.763814</td>\n",
       "    </tr>\n",
       "    <tr>\n",
       "      <th>571322</th>\n",
       "      <td>5.713226</td>\n",
       "      <td>6.669910</td>\n",
       "    </tr>\n",
       "    <tr>\n",
       "      <th>976713</th>\n",
       "      <td>9.767140</td>\n",
       "      <td>8.953101</td>\n",
       "    </tr>\n",
       "    <tr>\n",
       "      <th>886736</th>\n",
       "      <td>8.867369</td>\n",
       "      <td>9.530942</td>\n",
       "    </tr>\n",
       "    <tr>\n",
       "      <th>324566</th>\n",
       "      <td>3.245663</td>\n",
       "      <td>7.431577</td>\n",
       "    </tr>\n",
       "    <tr>\n",
       "      <th>465073</th>\n",
       "      <td>4.650735</td>\n",
       "      <td>7.194306</td>\n",
       "    </tr>\n",
       "    <tr>\n",
       "      <th>852321</th>\n",
       "      <td>8.523219</td>\n",
       "      <td>8.765951</td>\n",
       "    </tr>\n",
       "    <tr>\n",
       "      <th>158821</th>\n",
       "      <td>1.588212</td>\n",
       "      <td>4.713650</td>\n",
       "    </tr>\n",
       "    <tr>\n",
       "      <th>995094</th>\n",
       "      <td>9.950950</td>\n",
       "      <td>9.520374</td>\n",
       "    </tr>\n",
       "    <tr>\n",
       "      <th>433258</th>\n",
       "      <td>4.332584</td>\n",
       "      <td>8.408769</td>\n",
       "    </tr>\n",
       "    <tr>\n",
       "      <th>796471</th>\n",
       "      <td>7.964718</td>\n",
       "      <td>7.803264</td>\n",
       "    </tr>\n",
       "    <tr>\n",
       "      <th>901363</th>\n",
       "      <td>9.013639</td>\n",
       "      <td>8.650798</td>\n",
       "    </tr>\n",
       "    <tr>\n",
       "      <th>709794</th>\n",
       "      <td>7.097947</td>\n",
       "      <td>8.033933</td>\n",
       "    </tr>\n",
       "    <tr>\n",
       "      <th>539928</th>\n",
       "      <td>5.399285</td>\n",
       "      <td>8.418665</td>\n",
       "    </tr>\n",
       "    <tr>\n",
       "      <th>834462</th>\n",
       "      <td>8.344628</td>\n",
       "      <td>9.308400</td>\n",
       "    </tr>\n",
       "    <tr>\n",
       "      <th>...</th>\n",
       "      <td>...</td>\n",
       "      <td>...</td>\n",
       "    </tr>\n",
       "    <tr>\n",
       "      <th>810068</th>\n",
       "      <td>8.100688</td>\n",
       "      <td>7.983754</td>\n",
       "    </tr>\n",
       "    <tr>\n",
       "      <th>568846</th>\n",
       "      <td>5.688466</td>\n",
       "      <td>8.678555</td>\n",
       "    </tr>\n",
       "    <tr>\n",
       "      <th>516687</th>\n",
       "      <td>5.166875</td>\n",
       "      <td>8.094915</td>\n",
       "    </tr>\n",
       "    <tr>\n",
       "      <th>817266</th>\n",
       "      <td>8.172668</td>\n",
       "      <td>9.588337</td>\n",
       "    </tr>\n",
       "    <tr>\n",
       "      <th>656721</th>\n",
       "      <td>6.567217</td>\n",
       "      <td>9.238589</td>\n",
       "    </tr>\n",
       "    <tr>\n",
       "      <th>148030</th>\n",
       "      <td>1.480301</td>\n",
       "      <td>6.048971</td>\n",
       "    </tr>\n",
       "    <tr>\n",
       "      <th>305452</th>\n",
       "      <td>3.054523</td>\n",
       "      <td>5.006281</td>\n",
       "    </tr>\n",
       "    <tr>\n",
       "      <th>545847</th>\n",
       "      <td>5.458475</td>\n",
       "      <td>6.434059</td>\n",
       "    </tr>\n",
       "    <tr>\n",
       "      <th>185372</th>\n",
       "      <td>1.853722</td>\n",
       "      <td>7.011385</td>\n",
       "    </tr>\n",
       "    <tr>\n",
       "      <th>395728</th>\n",
       "      <td>3.957284</td>\n",
       "      <td>8.627261</td>\n",
       "    </tr>\n",
       "    <tr>\n",
       "      <th>692342</th>\n",
       "      <td>6.923427</td>\n",
       "      <td>6.845847</td>\n",
       "    </tr>\n",
       "    <tr>\n",
       "      <th>710112</th>\n",
       "      <td>7.101127</td>\n",
       "      <td>8.233166</td>\n",
       "    </tr>\n",
       "    <tr>\n",
       "      <th>553370</th>\n",
       "      <td>5.533706</td>\n",
       "      <td>7.946655</td>\n",
       "    </tr>\n",
       "    <tr>\n",
       "      <th>512504</th>\n",
       "      <td>5.125045</td>\n",
       "      <td>9.247328</td>\n",
       "    </tr>\n",
       "    <tr>\n",
       "      <th>711281</th>\n",
       "      <td>7.112817</td>\n",
       "      <td>7.546165</td>\n",
       "    </tr>\n",
       "    <tr>\n",
       "      <th>485948</th>\n",
       "      <td>4.859485</td>\n",
       "      <td>7.748461</td>\n",
       "    </tr>\n",
       "    <tr>\n",
       "      <th>147153</th>\n",
       "      <td>1.471531</td>\n",
       "      <td>7.499253</td>\n",
       "    </tr>\n",
       "    <tr>\n",
       "      <th>743188</th>\n",
       "      <td>7.431887</td>\n",
       "      <td>8.944786</td>\n",
       "    </tr>\n",
       "    <tr>\n",
       "      <th>748175</th>\n",
       "      <td>7.481757</td>\n",
       "      <td>9.185240</td>\n",
       "    </tr>\n",
       "    <tr>\n",
       "      <th>663963</th>\n",
       "      <td>6.639637</td>\n",
       "      <td>10.571608</td>\n",
       "    </tr>\n",
       "    <tr>\n",
       "      <th>599952</th>\n",
       "      <td>5.999526</td>\n",
       "      <td>7.676995</td>\n",
       "    </tr>\n",
       "    <tr>\n",
       "      <th>179497</th>\n",
       "      <td>1.794972</td>\n",
       "      <td>4.482038</td>\n",
       "    </tr>\n",
       "    <tr>\n",
       "      <th>218162</th>\n",
       "      <td>2.181622</td>\n",
       "      <td>5.881442</td>\n",
       "    </tr>\n",
       "    <tr>\n",
       "      <th>503073</th>\n",
       "      <td>5.030735</td>\n",
       "      <td>8.698587</td>\n",
       "    </tr>\n",
       "    <tr>\n",
       "      <th>298359</th>\n",
       "      <td>2.983593</td>\n",
       "      <td>6.154961</td>\n",
       "    </tr>\n",
       "    <tr>\n",
       "      <th>595144</th>\n",
       "      <td>5.951446</td>\n",
       "      <td>8.991221</td>\n",
       "    </tr>\n",
       "    <tr>\n",
       "      <th>939765</th>\n",
       "      <td>9.397659</td>\n",
       "      <td>11.062011</td>\n",
       "    </tr>\n",
       "    <tr>\n",
       "      <th>946299</th>\n",
       "      <td>9.462999</td>\n",
       "      <td>10.279121</td>\n",
       "    </tr>\n",
       "    <tr>\n",
       "      <th>945869</th>\n",
       "      <td>9.458699</td>\n",
       "      <td>7.357037</td>\n",
       "    </tr>\n",
       "    <tr>\n",
       "      <th>767086</th>\n",
       "      <td>7.670868</td>\n",
       "      <td>7.646542</td>\n",
       "    </tr>\n",
       "  </tbody>\n",
       "</table>\n",
       "<p>250 rows × 2 columns</p>\n",
       "</div>"
      ],
      "text/plain": [
       "          X Data          Y\n",
       "243243  2.432432   5.817477\n",
       "990018  9.900190  11.406724\n",
       "764347  7.643478   8.896461\n",
       "226053  2.260532   7.692620\n",
       "565688  5.656886   8.305856\n",
       "191072  1.910722   3.658712\n",
       "210913  2.109132   7.281594\n",
       "669609  6.696097   7.904554\n",
       "351887  3.518874   5.492796\n",
       "959272  9.592730  12.078271\n",
       "11387   0.113870   5.027079\n",
       "454129  4.541295   6.954602\n",
       "264493  2.644933   5.376118\n",
       "360942  3.609424   7.377012\n",
       "539471  5.394715   6.095059\n",
       "571269  5.712696   7.763814\n",
       "571322  5.713226   6.669910\n",
       "976713  9.767140   8.953101\n",
       "886736  8.867369   9.530942\n",
       "324566  3.245663   7.431577\n",
       "465073  4.650735   7.194306\n",
       "852321  8.523219   8.765951\n",
       "158821  1.588212   4.713650\n",
       "995094  9.950950   9.520374\n",
       "433258  4.332584   8.408769\n",
       "796471  7.964718   7.803264\n",
       "901363  9.013639   8.650798\n",
       "709794  7.097947   8.033933\n",
       "539928  5.399285   8.418665\n",
       "834462  8.344628   9.308400\n",
       "...          ...        ...\n",
       "810068  8.100688   7.983754\n",
       "568846  5.688466   8.678555\n",
       "516687  5.166875   8.094915\n",
       "817266  8.172668   9.588337\n",
       "656721  6.567217   9.238589\n",
       "148030  1.480301   6.048971\n",
       "305452  3.054523   5.006281\n",
       "545847  5.458475   6.434059\n",
       "185372  1.853722   7.011385\n",
       "395728  3.957284   8.627261\n",
       "692342  6.923427   6.845847\n",
       "710112  7.101127   8.233166\n",
       "553370  5.533706   7.946655\n",
       "512504  5.125045   9.247328\n",
       "711281  7.112817   7.546165\n",
       "485948  4.859485   7.748461\n",
       "147153  1.471531   7.499253\n",
       "743188  7.431887   8.944786\n",
       "748175  7.481757   9.185240\n",
       "663963  6.639637  10.571608\n",
       "599952  5.999526   7.676995\n",
       "179497  1.794972   4.482038\n",
       "218162  2.181622   5.881442\n",
       "503073  5.030735   8.698587\n",
       "298359  2.983593   6.154961\n",
       "595144  5.951446   8.991221\n",
       "939765  9.397659  11.062011\n",
       "946299  9.462999  10.279121\n",
       "945869  9.458699   7.357037\n",
       "767086  7.670868   7.646542\n",
       "\n",
       "[250 rows x 2 columns]"
      ]
     },
     "execution_count": 13,
     "metadata": {},
     "output_type": "execute_result"
    }
   ],
   "source": [
    "my_data.sample(n=250)"
   ]
  },
  {
   "cell_type": "code",
   "execution_count": 14,
   "metadata": {},
   "outputs": [
    {
     "data": {
      "text/plain": [
       "<matplotlib.axes._subplots.AxesSubplot at 0x15662567668>"
      ]
     },
     "execution_count": 14,
     "metadata": {},
     "output_type": "execute_result"
    },
    {
     "data": {
      "image/png": "[encoded data removed]",
      "text/plain": [
       "<Figure size 432x288 with 1 Axes>"
      ]
     },
     "metadata": {
      "needs_background": "light"
     },
     "output_type": "display_data"
    }
   ],
   "source": [
    "my_data.sample(n=250).plot(kind='scatter',x = 'X Data',y = 'Y')"
   ]
  },
  {
   "cell_type": "code",
   "execution_count": 15,
   "metadata": {},
   "outputs": [],
   "source": [
    "batch_size = 8"
   ]
  },
  {
   "cell_type": "code",
   "execution_count": 16,
   "metadata": {},
   "outputs": [
    {
     "data": {
      "text/plain": [
       "array([-0.06993403,  1.42173947])"
      ]
     },
     "execution_count": 16,
     "metadata": {},
     "output_type": "execute_result"
    }
   ],
   "source": [
    "np.random.randn(2)"
   ]
  },
  {
   "cell_type": "code",
   "execution_count": 17,
   "metadata": {},
   "outputs": [],
   "source": [
    "m = tf.Variable(0.53237955)\n",
    "b = tf.Variable(0.77836218)"
   ]
  },
  {
   "cell_type": "code",
   "execution_count": 18,
   "metadata": {},
   "outputs": [],
   "source": [
    "X_placeholder = tf.placeholder(tf.float32,[batch_size])"
   ]
  },
  {
   "cell_type": "code",
   "execution_count": 19,
   "metadata": {},
   "outputs": [],
   "source": [
    "y_placeholder = tf.placeholder(tf.float32,[batch_size])"
   ]
  },
  {
   "cell_type": "code",
   "execution_count": 20,
   "metadata": {},
   "outputs": [],
   "source": [
    "y_model = m * X_placeholder + b"
   ]
  },
  {
   "cell_type": "code",
   "execution_count": 21,
   "metadata": {},
   "outputs": [],
   "source": [
    "error = tf.reduce_sum(tf.square(y_placeholder - y_model))"
   ]
  },
  {
   "cell_type": "code",
   "execution_count": 22,
   "metadata": {},
   "outputs": [],
   "source": [
    "optimizer = tf.train.GradientDescentOptimizer(0.001)"
   ]
  },
  {
   "cell_type": "code",
   "execution_count": 23,
   "metadata": {},
   "outputs": [],
   "source": [
    "train = optimizer.minimize(error)"
   ]
  },
  {
   "cell_type": "code",
   "execution_count": 24,
   "metadata": {},
   "outputs": [],
   "source": [
    "init = tf.global_variables_initializer()"
   ]
  },
  {
   "cell_type": "code",
   "execution_count": 25,
   "metadata": {},
   "outputs": [],
   "source": [
    "with tf.Session() as sess:\n",
    "    sess.run(init)\n",
    "    \n",
    "    epochs = 100000\n",
    "    \n",
    "    for i in range(epochs):\n",
    "        \n",
    "        rand_ind = np.random.randint(len(X_data),size = batch_size)\n",
    "        \n",
    "        feed = {X_placeholder: X_data[rand_ind], y_placeholder: y_true[rand_ind]}\n",
    "        sess.run(train, feed_dict=feed)\n",
    "        \n",
    "    model_m, model_b = sess.run([m,b])"
   ]
  },
  {
   "cell_type": "code",
   "execution_count": 26,
   "metadata": {},
   "outputs": [
    {
     "data": {
      "text/plain": [
       "0.4882011"
      ]
     },
     "execution_count": 26,
     "metadata": {},
     "output_type": "execute_result"
    }
   ],
   "source": [
    "model_m"
   ]
  },
  {
   "cell_type": "code",
   "execution_count": 27,
   "metadata": {},
   "outputs": [
    {
     "data": {
      "text/plain": [
       "4.9875016"
      ]
     },
     "execution_count": 27,
     "metadata": {},
     "output_type": "execute_result"
    }
   ],
   "source": [
    "model_b"
   ]
  },
  {
   "cell_type": "code",
   "execution_count": 28,
   "metadata": {},
   "outputs": [],
   "source": [
    "# y = xm + b\n",
    "y_hat = X_data * model_m + model_b"
   ]
  },
  {
   "cell_type": "code",
   "execution_count": 29,
   "metadata": {},
   "outputs": [
    {
     "data": {
      "text/plain": [
       "[<matplotlib.lines.Line2D at 0x15664877940>]"
      ]
     },
     "execution_count": 29,
     "metadata": {},
     "output_type": "execute_result"
    },
    {
     "data": {
      "image/png": "[encoded data removed]",
      "text/plain": [
       "<Figure size 432x288 with 1 Axes>"
      ]
     },
     "metadata": {
      "needs_background": "light"
     },
     "output_type": "display_data"
    }
   ],
   "source": [
    "my_data.sample(250).plot(kind='scatter',x = 'X Data', y= 'Y')\n",
    "plt.plot(X_data,y_hat, 'r')"
   ]
  },
  {
   "cell_type": "markdown",
   "metadata": {},
   "source": [
    "## Tf Estimator Regression"
   ]
  },
  {
   "cell_type": "code",
   "execution_count": 30,
   "metadata": {},
   "outputs": [],
   "source": [
    "feat_cols = [tf.feature_column.numeric_column('x',shape=[1])]"
   ]
  },
  {
   "cell_type": "code",
   "execution_count": 31,
   "metadata": {},
   "outputs": [
    {
     "name": "stdout",
     "output_type": "stream",
     "text": [
      "INFO:tensorflow:Using default config.\n",
      "WARNING:tensorflow:Using temporary folder as model directory: C:\\Users\\Janne\\AppData\\Local\\Temp\\tmp9oaq1u7y\n",
      "INFO:tensorflow:Using config: {'_model_dir': 'C:\\\\Users\\\\Janne\\\\AppData\\\\Local\\\\Temp\\\\tmp9oaq1u7y', '_tf_random_seed': None, '_save_summary_steps': 100, '_save_checkpoints_steps': None, '_save_checkpoints_secs': 600, '_session_config': allow_soft_placement: true\n",
      "graph_options {\n",
      "  rewrite_options {\n",
      "    meta_optimizer_iterations: ONE\n",
      "  }\n",
      "}\n",
      ", '_keep_checkpoint_max': 5, '_keep_checkpoint_every_n_hours': 10000, '_log_step_count_steps': 100, '_train_distribute': None, '_device_fn': None, '_protocol': None, '_eval_distribute': None, '_experimental_distribute': None, '_experimental_max_worker_delay_secs': None, '_service': None, '_cluster_spec': <tensorflow.python.training.server_lib.ClusterSpec object at 0x000001567017CC88>, '_task_type': 'worker', '_task_id': 0, '_global_id_in_cluster': 0, '_master': '', '_evaluation_master': '', '_is_chief': True, '_num_ps_replicas': 0, '_num_worker_replicas': 1}\n"
     ]
    }
   ],
   "source": [
    "estimator = tf.estimator.LinearRegressor(feature_columns = feat_cols)"
   ]
  },
  {
   "cell_type": "code",
   "execution_count": 32,
   "metadata": {},
   "outputs": [],
   "source": [
    "from sklearn.model_selection import train_test_split"
   ]
  },
  {
   "cell_type": "code",
   "execution_count": 33,
   "metadata": {},
   "outputs": [],
   "source": [
    "X_train, X_test, y_train, y_test = train_test_split(X_data, y_true, test_size=0.3, random_state=42)"
   ]
  },
  {
   "cell_type": "code",
   "execution_count": 34,
   "metadata": {},
   "outputs": [
    {
     "name": "stdout",
     "output_type": "stream",
     "text": [
      "(700000,)\n"
     ]
    }
   ],
   "source": [
    "print(X_train.shape)"
   ]
  },
  {
   "cell_type": "code",
   "execution_count": 35,
   "metadata": {},
   "outputs": [
    {
     "name": "stdout",
     "output_type": "stream",
     "text": [
      "(300000,)\n"
     ]
    }
   ],
   "source": [
    "print(X_test.shape)"
   ]
  },
  {
   "cell_type": "code",
   "execution_count": 36,
   "metadata": {},
   "outputs": [],
   "source": [
    "input_func = tf.estimator.inputs.numpy_input_fn({'x':X_train},y_train,batch_size=8,num_epochs=None,shuffle=True)"
   ]
  },
  {
   "cell_type": "code",
   "execution_count": 37,
   "metadata": {},
   "outputs": [],
   "source": [
    "train_input_func = tf.estimator.inputs.numpy_input_fn({'x':X_train},y_train,batch_size=8,num_epochs=1000,shuffle=False)"
   ]
  },
  {
   "cell_type": "code",
   "execution_count": 38,
   "metadata": {},
   "outputs": [],
   "source": [
    "test_input_func = tf.estimator.inputs.numpy_input_fn({'x':X_test},y_test,batch_size=8,num_epochs=1000,shuffle=False)"
   ]
  },
  {
   "cell_type": "code",
   "execution_count": 39,
   "metadata": {
    "scrolled": true
   },
   "outputs": [
    {
     "name": "stdout",
     "output_type": "stream",
     "text": [
      "WARNING:tensorflow:From C:\\Python\\Anaconda3\\lib\\site-packages\\tensorflow\\python\\training\\training_util.py:236: Variable.initialized_value (from tensorflow.python.ops.variables) is deprecated and will be removed in a future version.\n",
      "Instructions for updating:\n",
      "Use Variable.read_value. Variables in 2.X are initialized automatically both in eager and graph (inside tf.defun) contexts.\n",
      "WARNING:tensorflow:From C:\\Python\\Anaconda3\\lib\\site-packages\\tensorflow_estimator\\python\\estimator\\inputs\\queues\\feeding_queue_runner.py:62: QueueRunner.__init__ (from tensorflow.python.training.queue_runner_impl) is deprecated and will be removed in a future version.\n",
      "Instructions for updating:\n",
      "To construct input pipelines, use the `tf.data` module.\n",
      "WARNING:tensorflow:From C:\\Python\\Anaconda3\\lib\\site-packages\\tensorflow_estimator\\python\\estimator\\inputs\\queues\\feeding_functions.py:500: add_queue_runner (from tensorflow.python.training.queue_runner_impl) is deprecated and will be removed in a future version.\n",
      "Instructions for updating:\n",
      "To construct input pipelines, use the `tf.data` module.\n",
      "INFO:tensorflow:Calling model_fn.\n",
      "WARNING:tensorflow:Entity <bound method LinearModel.call of <tensorflow.python.feature_column.feature_column_v2.LinearModel object at 0x00000156F7F4E400>> could not be transformed and will be executed as-is. Please report this to the AutgoGraph team. When filing the bug, set the verbosity to 10 (on Linux, `export AUTOGRAPH_VERBOSITY=10`) and attach the full output. Cause: converting <bound method LinearModel.call of <tensorflow.python.feature_column.feature_column_v2.LinearModel object at 0x00000156F7F4E400>>: AssertionError: Bad argument number for Name: 3, expecting 4\n",
      "WARNING: Entity <bound method LinearModel.call of <tensorflow.python.feature_column.feature_column_v2.LinearModel object at 0x00000156F7F4E400>> could not be transformed and will be executed as-is. Please report this to the AutgoGraph team. When filing the bug, set the verbosity to 10 (on Linux, `export AUTOGRAPH_VERBOSITY=10`) and attach the full output. Cause: converting <bound method LinearModel.call of <tensorflow.python.feature_column.feature_column_v2.LinearModel object at 0x00000156F7F4E400>>: AssertionError: Bad argument number for Name: 3, expecting 4\n",
      "WARNING:tensorflow:Entity <bound method _LinearModelLayer.call of <tensorflow.python.feature_column.feature_column_v2._LinearModelLayer object at 0x00000156F7FAABE0>> could not be transformed and will be executed as-is. Please report this to the AutgoGraph team. When filing the bug, set the verbosity to 10 (on Linux, `export AUTOGRAPH_VERBOSITY=10`) and attach the full output. Cause: converting <bound method _LinearModelLayer.call of <tensorflow.python.feature_column.feature_column_v2._LinearModelLayer object at 0x00000156F7FAABE0>>: AssertionError: Bad argument number for Name: 3, expecting 4\n",
      "WARNING: Entity <bound method _LinearModelLayer.call of <tensorflow.python.feature_column.feature_column_v2._LinearModelLayer object at 0x00000156F7FAABE0>> could not be transformed and will be executed as-is. Please report this to the AutgoGraph team. When filing the bug, set the verbosity to 10 (on Linux, `export AUTOGRAPH_VERBOSITY=10`) and attach the full output. Cause: converting <bound method _LinearModelLayer.call of <tensorflow.python.feature_column.feature_column_v2._LinearModelLayer object at 0x00000156F7FAABE0>>: AssertionError: Bad argument number for Name: 3, expecting 4\n",
      "WARNING:tensorflow:From C:\\Python\\Anaconda3\\lib\\site-packages\\tensorflow_estimator\\python\\estimator\\canned\\linear.py:308: to_float (from tensorflow.python.ops.math_ops) is deprecated and will be removed in a future version.\n",
      "Instructions for updating:\n",
      "Use `tf.cast` instead.\n",
      "INFO:tensorflow:Done calling model_fn.\n",
      "INFO:tensorflow:Create CheckpointSaverHook.\n",
      "WARNING:tensorflow:From C:\\Python\\Anaconda3\\lib\\site-packages\\tensorflow\\python\\ops\\array_ops.py:1354: add_dispatch_support.<locals>.wrapper (from tensorflow.python.ops.array_ops) is deprecated and will be removed in a future version.\n",
      "Instructions for updating:\n",
      "Use tf.where in 2.0, which has the same broadcast rule as np.where\n",
      "INFO:tensorflow:Graph was finalized.\n",
      "INFO:tensorflow:Running local_init_op.\n",
      "INFO:tensorflow:Done running local_init_op.\n",
      "WARNING:tensorflow:From C:\\Python\\Anaconda3\\lib\\site-packages\\tensorflow\\python\\training\\monitored_session.py:875: start_queue_runners (from tensorflow.python.training.queue_runner_impl) is deprecated and will be removed in a future version.\n",
      "Instructions for updating:\n",
      "To construct input pipelines, use the `tf.data` module.\n",
      "INFO:tensorflow:Saving checkpoints for 0 into C:\\Users\\Janne\\AppData\\Local\\Temp\\tmp9oaq1u7y\\model.ckpt.\n",
      "INFO:tensorflow:loss = 458.43713, step = 0\n",
      "INFO:tensorflow:global_step/sec: 562.125\n",
      "INFO:tensorflow:loss = 38.17749, step = 100 (0.179 sec)\n",
      "INFO:tensorflow:global_step/sec: 680.648\n",
      "INFO:tensorflow:loss = 36.784782, step = 200 (0.147 sec)\n",
      "INFO:tensorflow:global_step/sec: 690.067\n",
      "INFO:tensorflow:loss = 25.688152, step = 300 (0.145 sec)\n",
      "INFO:tensorflow:global_step/sec: 680.654\n",
      "INFO:tensorflow:loss = 19.712122, step = 400 (0.147 sec)\n",
      "INFO:tensorflow:global_step/sec: 685.329\n",
      "INFO:tensorflow:loss = 18.436426, step = 500 (0.146 sec)\n",
      "INFO:tensorflow:global_step/sec: 685.331\n",
      "INFO:tensorflow:loss = 11.275936, step = 600 (0.146 sec)\n",
      "INFO:tensorflow:global_step/sec: 694.834\n",
      "INFO:tensorflow:loss = 4.478106, step = 700 (0.144 sec)\n",
      "INFO:tensorflow:global_step/sec: 680.669\n",
      "INFO:tensorflow:loss = 8.028077, step = 800 (0.147 sec)\n",
      "INFO:tensorflow:global_step/sec: 690.057\n",
      "INFO:tensorflow:loss = 1.4824865, step = 900 (0.145 sec)\n",
      "INFO:tensorflow:Saving checkpoints for 1000 into C:\\Users\\Janne\\AppData\\Local\\Temp\\tmp9oaq1u7y\\model.ckpt.\n",
      "INFO:tensorflow:Loss for final step: 2.1713228.\n"
     ]
    },
    {
     "data": {
      "text/plain": [
       "<tensorflow_estimator.python.estimator.canned.linear.LinearRegressor at 0x1566ba4d7f0>"
      ]
     },
     "execution_count": 39,
     "metadata": {},
     "output_type": "execute_result"
    }
   ],
   "source": [
    "estimator.train(input_fn = input_func,steps=1000)"
   ]
  },
  {
   "cell_type": "code",
   "execution_count": 40,
   "metadata": {
    "scrolled": true
   },
   "outputs": [
    {
     "name": "stdout",
     "output_type": "stream",
     "text": [
      "INFO:tensorflow:Calling model_fn.\n",
      "WARNING:tensorflow:Entity <bound method LinearModel.call of <tensorflow.python.feature_column.feature_column_v2.LinearModel object at 0x00000156F92D26D8>> could not be transformed and will be executed as-is. Please report this to the AutgoGraph team. When filing the bug, set the verbosity to 10 (on Linux, `export AUTOGRAPH_VERBOSITY=10`) and attach the full output. Cause: converting <bound method LinearModel.call of <tensorflow.python.feature_column.feature_column_v2.LinearModel object at 0x00000156F92D26D8>>: AssertionError: Bad argument number for Name: 3, expecting 4\n",
      "WARNING: Entity <bound method LinearModel.call of <tensorflow.python.feature_column.feature_column_v2.LinearModel object at 0x00000156F92D26D8>> could not be transformed and will be executed as-is. Please report this to the AutgoGraph team. When filing the bug, set the verbosity to 10 (on Linux, `export AUTOGRAPH_VERBOSITY=10`) and attach the full output. Cause: converting <bound method LinearModel.call of <tensorflow.python.feature_column.feature_column_v2.LinearModel object at 0x00000156F92D26D8>>: AssertionError: Bad argument number for Name: 3, expecting 4\n",
      "WARNING:tensorflow:Entity <bound method _LinearModelLayer.call of <tensorflow.python.feature_column.feature_column_v2._LinearModelLayer object at 0x00000156F9C8A7B8>> could not be transformed and will be executed as-is. Please report this to the AutgoGraph team. When filing the bug, set the verbosity to 10 (on Linux, `export AUTOGRAPH_VERBOSITY=10`) and attach the full output. Cause: converting <bound method _LinearModelLayer.call of <tensorflow.python.feature_column.feature_column_v2._LinearModelLayer object at 0x00000156F9C8A7B8>>: AssertionError: Bad argument number for Name: 3, expecting 4\n",
      "WARNING: Entity <bound method _LinearModelLayer.call of <tensorflow.python.feature_column.feature_column_v2._LinearModelLayer object at 0x00000156F9C8A7B8>> could not be transformed and will be executed as-is. Please report this to the AutgoGraph team. When filing the bug, set the verbosity to 10 (on Linux, `export AUTOGRAPH_VERBOSITY=10`) and attach the full output. Cause: converting <bound method _LinearModelLayer.call of <tensorflow.python.feature_column.feature_column_v2._LinearModelLayer object at 0x00000156F9C8A7B8>>: AssertionError: Bad argument number for Name: 3, expecting 4\n",
      "INFO:tensorflow:Done calling model_fn.\n",
      "INFO:tensorflow:Starting evaluation at 2020-05-10T18:18:43Z\n",
      "INFO:tensorflow:Graph was finalized.\n",
      "WARNING:tensorflow:From C:\\Python\\Anaconda3\\lib\\site-packages\\tensorflow\\python\\training\\saver.py:1276: checkpoint_exists (from tensorflow.python.training.checkpoint_management) is deprecated and will be removed in a future version.\n",
      "Instructions for updating:\n",
      "Use standard file APIs to check for files with this prefix.\n",
      "INFO:tensorflow:Restoring parameters from C:\\Users\\Janne\\AppData\\Local\\Temp\\tmp9oaq1u7y\\model.ckpt-1000\n",
      "INFO:tensorflow:Running local_init_op.\n",
      "INFO:tensorflow:Done running local_init_op.\n",
      "INFO:tensorflow:Evaluation [100/1000]\n",
      "INFO:tensorflow:Evaluation [200/1000]\n",
      "INFO:tensorflow:Evaluation [300/1000]\n",
      "INFO:tensorflow:Evaluation [400/1000]\n",
      "INFO:tensorflow:Evaluation [500/1000]\n",
      "INFO:tensorflow:Evaluation [600/1000]\n",
      "INFO:tensorflow:Evaluation [700/1000]\n",
      "INFO:tensorflow:Evaluation [800/1000]\n",
      "INFO:tensorflow:Evaluation [900/1000]\n",
      "INFO:tensorflow:Evaluation [1000/1000]\n",
      "INFO:tensorflow:Finished evaluation at 2020-05-10-18:18:45\n",
      "INFO:tensorflow:Saving dict for global step 1000: average_loss = 1.0980306, global_step = 1000, label/mean = 7.504489, loss = 8.784245, prediction/mean = 7.359688\n",
      "INFO:tensorflow:Saving 'checkpoint_path' summary for global step 1000: C:\\Users\\Janne\\AppData\\Local\\Temp\\tmp9oaq1u7y\\model.ckpt-1000\n"
     ]
    }
   ],
   "source": [
    "train_metric = estimator.evaluate(input_fn = train_input_func,steps=1000)"
   ]
  },
  {
   "cell_type": "code",
   "execution_count": 41,
   "metadata": {
    "scrolled": true
   },
   "outputs": [
    {
     "name": "stdout",
     "output_type": "stream",
     "text": [
      "INFO:tensorflow:Calling model_fn.\n",
      "WARNING:tensorflow:Entity <bound method LinearModel.call of <tensorflow.python.feature_column.feature_column_v2.LinearModel object at 0x00000156FF809CF8>> could not be transformed and will be executed as-is. Please report this to the AutgoGraph team. When filing the bug, set the verbosity to 10 (on Linux, `export AUTOGRAPH_VERBOSITY=10`) and attach the full output. Cause: converting <bound method LinearModel.call of <tensorflow.python.feature_column.feature_column_v2.LinearModel object at 0x00000156FF809CF8>>: AssertionError: Bad argument number for Name: 3, expecting 4\n",
      "WARNING: Entity <bound method LinearModel.call of <tensorflow.python.feature_column.feature_column_v2.LinearModel object at 0x00000156FF809CF8>> could not be transformed and will be executed as-is. Please report this to the AutgoGraph team. When filing the bug, set the verbosity to 10 (on Linux, `export AUTOGRAPH_VERBOSITY=10`) and attach the full output. Cause: converting <bound method LinearModel.call of <tensorflow.python.feature_column.feature_column_v2.LinearModel object at 0x00000156FF809CF8>>: AssertionError: Bad argument number for Name: 3, expecting 4\n",
      "WARNING:tensorflow:Entity <bound method _LinearModelLayer.call of <tensorflow.python.feature_column.feature_column_v2._LinearModelLayer object at 0x00000156FF8201D0>> could not be transformed and will be executed as-is. Please report this to the AutgoGraph team. When filing the bug, set the verbosity to 10 (on Linux, `export AUTOGRAPH_VERBOSITY=10`) and attach the full output. Cause: converting <bound method _LinearModelLayer.call of <tensorflow.python.feature_column.feature_column_v2._LinearModelLayer object at 0x00000156FF8201D0>>: AssertionError: Bad argument number for Name: 3, expecting 4\n",
      "WARNING: Entity <bound method _LinearModelLayer.call of <tensorflow.python.feature_column.feature_column_v2._LinearModelLayer object at 0x00000156FF8201D0>> could not be transformed and will be executed as-is. Please report this to the AutgoGraph team. When filing the bug, set the verbosity to 10 (on Linux, `export AUTOGRAPH_VERBOSITY=10`) and attach the full output. Cause: converting <bound method _LinearModelLayer.call of <tensorflow.python.feature_column.feature_column_v2._LinearModelLayer object at 0x00000156FF8201D0>>: AssertionError: Bad argument number for Name: 3, expecting 4\n",
      "INFO:tensorflow:Done calling model_fn.\n",
      "INFO:tensorflow:Starting evaluation at 2020-05-10T18:18:46Z\n",
      "INFO:tensorflow:Graph was finalized.\n",
      "INFO:tensorflow:Restoring parameters from C:\\Users\\Janne\\AppData\\Local\\Temp\\tmp9oaq1u7y\\model.ckpt-1000\n",
      "INFO:tensorflow:Running local_init_op.\n",
      "INFO:tensorflow:Done running local_init_op.\n",
      "INFO:tensorflow:Evaluation [100/1000]\n",
      "INFO:tensorflow:Evaluation [200/1000]\n",
      "INFO:tensorflow:Evaluation [300/1000]\n",
      "INFO:tensorflow:Evaluation [400/1000]\n",
      "INFO:tensorflow:Evaluation [500/1000]\n",
      "INFO:tensorflow:Evaluation [600/1000]\n",
      "INFO:tensorflow:Evaluation [700/1000]\n",
      "INFO:tensorflow:Evaluation [800/1000]\n",
      "INFO:tensorflow:Evaluation [900/1000]\n",
      "INFO:tensorflow:Evaluation [1000/1000]\n",
      "INFO:tensorflow:Finished evaluation at 2020-05-10-18:18:47\n",
      "INFO:tensorflow:Saving dict for global step 1000: average_loss = 1.0525736, global_step = 1000, label/mean = 7.473803, loss = 8.4205885, prediction/mean = 7.3451586\n",
      "INFO:tensorflow:Saving 'checkpoint_path' summary for global step 1000: C:\\Users\\Janne\\AppData\\Local\\Temp\\tmp9oaq1u7y\\model.ckpt-1000\n"
     ]
    }
   ],
   "source": [
    "test_metric = estimator.evaluate(test_input_func,steps = 1000)"
   ]
  },
  {
   "cell_type": "code",
   "execution_count": 42,
   "metadata": {},
   "outputs": [
    {
     "name": "stdout",
     "output_type": "stream",
     "text": [
      "training metrics:\n",
      "{'average_loss': 1.0980306, 'label/mean': 7.504489, 'loss': 8.784245, 'prediction/mean': 7.359688, 'global_step': 1000}\n"
     ]
    }
   ],
   "source": [
    "print('training metrics:')\n",
    "print(train_metric)"
   ]
  },
  {
   "cell_type": "code",
   "execution_count": 43,
   "metadata": {},
   "outputs": [
    {
     "name": "stdout",
     "output_type": "stream",
     "text": [
      "testing metrics:\n",
      "{'average_loss': 1.0525736, 'label/mean': 7.473803, 'loss': 8.4205885, 'prediction/mean': 7.3451586, 'global_step': 1000}\n"
     ]
    }
   ],
   "source": [
    "print('testing metrics:')\n",
    "print(test_metric)"
   ]
  },
  {
   "cell_type": "code",
   "execution_count": 44,
   "metadata": {},
   "outputs": [],
   "source": [
    "brand_new_data = np.linspace(0,10,10)"
   ]
  },
  {
   "cell_type": "code",
   "execution_count": 45,
   "metadata": {},
   "outputs": [],
   "source": [
    "in_fun_pred = tf.estimator.inputs.numpy_input_fn({'x':brand_new_data},shuffle=False)"
   ]
  },
  {
   "cell_type": "code",
   "execution_count": 46,
   "metadata": {},
   "outputs": [
    {
     "name": "stdout",
     "output_type": "stream",
     "text": [
      "INFO:tensorflow:Calling model_fn.\n",
      "WARNING:tensorflow:Entity <bound method LinearModel.call of <tensorflow.python.feature_column.feature_column_v2.LinearModel object at 0x00000156F91D4828>> could not be transformed and will be executed as-is. Please report this to the AutgoGraph team. When filing the bug, set the verbosity to 10 (on Linux, `export AUTOGRAPH_VERBOSITY=10`) and attach the full output. Cause: converting <bound method LinearModel.call of <tensorflow.python.feature_column.feature_column_v2.LinearModel object at 0x00000156F91D4828>>: AssertionError: Bad argument number for Name: 3, expecting 4\n",
      "WARNING: Entity <bound method LinearModel.call of <tensorflow.python.feature_column.feature_column_v2.LinearModel object at 0x00000156F91D4828>> could not be transformed and will be executed as-is. Please report this to the AutgoGraph team. When filing the bug, set the verbosity to 10 (on Linux, `export AUTOGRAPH_VERBOSITY=10`) and attach the full output. Cause: converting <bound method LinearModel.call of <tensorflow.python.feature_column.feature_column_v2.LinearModel object at 0x00000156F91D4828>>: AssertionError: Bad argument number for Name: 3, expecting 4\n",
      "WARNING:tensorflow:Entity <bound method _LinearModelLayer.call of <tensorflow.python.feature_column.feature_column_v2._LinearModelLayer object at 0x00000156F9085BA8>> could not be transformed and will be executed as-is. Please report this to the AutgoGraph team. When filing the bug, set the verbosity to 10 (on Linux, `export AUTOGRAPH_VERBOSITY=10`) and attach the full output. Cause: converting <bound method _LinearModelLayer.call of <tensorflow.python.feature_column.feature_column_v2._LinearModelLayer object at 0x00000156F9085BA8>>: AssertionError: Bad argument number for Name: 3, expecting 4\n",
      "WARNING: Entity <bound method _LinearModelLayer.call of <tensorflow.python.feature_column.feature_column_v2._LinearModelLayer object at 0x00000156F9085BA8>> could not be transformed and will be executed as-is. Please report this to the AutgoGraph team. When filing the bug, set the verbosity to 10 (on Linux, `export AUTOGRAPH_VERBOSITY=10`) and attach the full output. Cause: converting <bound method _LinearModelLayer.call of <tensorflow.python.feature_column.feature_column_v2._LinearModelLayer object at 0x00000156F9085BA8>>: AssertionError: Bad argument number for Name: 3, expecting 4\n",
      "INFO:tensorflow:Done calling model_fn.\n",
      "INFO:tensorflow:Graph was finalized.\n",
      "INFO:tensorflow:Restoring parameters from C:\\Users\\Janne\\AppData\\Local\\Temp\\tmp9oaq1u7y\\model.ckpt-1000\n",
      "INFO:tensorflow:Running local_init_op.\n",
      "INFO:tensorflow:Done running local_init_op.\n"
     ]
    },
    {
     "data": {
      "text/plain": [
       "[{'predictions': array([4.444725], dtype=float32)},\n",
       " {'predictions': array([5.0935426], dtype=float32)},\n",
       " {'predictions': array([5.74236], dtype=float32)},\n",
       " {'predictions': array([6.391177], dtype=float32)},\n",
       " {'predictions': array([7.039995], dtype=float32)},\n",
       " {'predictions': array([7.6888123], dtype=float32)},\n",
       " {'predictions': array([8.337629], dtype=float32)},\n",
       " {'predictions': array([8.986447], dtype=float32)},\n",
       " {'predictions': array([9.635265], dtype=float32)},\n",
       " {'predictions': array([10.284082], dtype=float32)}]"
      ]
     },
     "execution_count": 46,
     "metadata": {},
     "output_type": "execute_result"
    }
   ],
   "source": [
    "list(estimator.predict(input_fn=in_fun_pred))"
   ]
  },
  {
   "cell_type": "code",
   "execution_count": 47,
   "metadata": {},
   "outputs": [
    {
     "name": "stdout",
     "output_type": "stream",
     "text": [
      "INFO:tensorflow:Calling model_fn.\n",
      "WARNING:tensorflow:Entity <bound method LinearModel.call of <tensorflow.python.feature_column.feature_column_v2.LinearModel object at 0x00000156F845E7F0>> could not be transformed and will be executed as-is. Please report this to the AutgoGraph team. When filing the bug, set the verbosity to 10 (on Linux, `export AUTOGRAPH_VERBOSITY=10`) and attach the full output. Cause: converting <bound method LinearModel.call of <tensorflow.python.feature_column.feature_column_v2.LinearModel object at 0x00000156F845E7F0>>: AssertionError: Bad argument number for Name: 3, expecting 4\n",
      "WARNING: Entity <bound method LinearModel.call of <tensorflow.python.feature_column.feature_column_v2.LinearModel object at 0x00000156F845E7F0>> could not be transformed and will be executed as-is. Please report this to the AutgoGraph team. When filing the bug, set the verbosity to 10 (on Linux, `export AUTOGRAPH_VERBOSITY=10`) and attach the full output. Cause: converting <bound method LinearModel.call of <tensorflow.python.feature_column.feature_column_v2.LinearModel object at 0x00000156F845E7F0>>: AssertionError: Bad argument number for Name: 3, expecting 4\n",
      "WARNING:tensorflow:Entity <bound method _LinearModelLayer.call of <tensorflow.python.feature_column.feature_column_v2._LinearModelLayer object at 0x00000156F84B7CF8>> could not be transformed and will be executed as-is. Please report this to the AutgoGraph team. When filing the bug, set the verbosity to 10 (on Linux, `export AUTOGRAPH_VERBOSITY=10`) and attach the full output. Cause: converting <bound method _LinearModelLayer.call of <tensorflow.python.feature_column.feature_column_v2._LinearModelLayer object at 0x00000156F84B7CF8>>: AssertionError: Bad argument number for Name: 3, expecting 4\n",
      "WARNING: Entity <bound method _LinearModelLayer.call of <tensorflow.python.feature_column.feature_column_v2._LinearModelLayer object at 0x00000156F84B7CF8>> could not be transformed and will be executed as-is. Please report this to the AutgoGraph team. When filing the bug, set the verbosity to 10 (on Linux, `export AUTOGRAPH_VERBOSITY=10`) and attach the full output. Cause: converting <bound method _LinearModelLayer.call of <tensorflow.python.feature_column.feature_column_v2._LinearModelLayer object at 0x00000156F84B7CF8>>: AssertionError: Bad argument number for Name: 3, expecting 4\n",
      "INFO:tensorflow:Done calling model_fn.\n",
      "INFO:tensorflow:Graph was finalized.\n",
      "INFO:tensorflow:Restoring parameters from C:\\Users\\Janne\\AppData\\Local\\Temp\\tmp9oaq1u7y\\model.ckpt-1000\n",
      "INFO:tensorflow:Running local_init_op.\n",
      "INFO:tensorflow:Done running local_init_op.\n"
     ]
    }
   ],
   "source": [
    "predictions = []\n",
    "\n",
    "for pred in estimator.predict(input_fn=in_fun_pred):\n",
    "    predictions.append(pred['predictions'])"
   ]
  },
  {
   "cell_type": "code",
   "execution_count": 48,
   "metadata": {},
   "outputs": [
    {
     "data": {
      "text/plain": [
       "[array([4.444725], dtype=float32),\n",
       " array([5.0935426], dtype=float32),\n",
       " array([5.74236], dtype=float32),\n",
       " array([6.391177], dtype=float32),\n",
       " array([7.039995], dtype=float32),\n",
       " array([7.6888123], dtype=float32),\n",
       " array([8.337629], dtype=float32),\n",
       " array([8.986447], dtype=float32),\n",
       " array([9.635265], dtype=float32),\n",
       " array([10.284082], dtype=float32)]"
      ]
     },
     "execution_count": 48,
     "metadata": {},
     "output_type": "execute_result"
    }
   ],
   "source": [
    "predictions"
   ]
  },
  {
   "cell_type": "code",
   "execution_count": 49,
   "metadata": {},
   "outputs": [
    {
     "data": {
      "text/plain": [
       "[<matplotlib.lines.Line2D at 0x156f80810f0>]"
      ]
     },
     "execution_count": 49,
     "metadata": {},
     "output_type": "execute_result"
    },
    {
     "data": {
      "image/png": "[encoded data removed]",
      "text/plain": [
       "<Figure size 432x288 with 1 Axes>"
      ]
     },
     "metadata": {
      "needs_background": "light"
     },
     "output_type": "display_data"
    }
   ],
   "source": [
    "my_data.sample(n=250).plot(kind='scatter',x='X Data',y= 'Y')\n",
    "plt.plot(brand_new_data,predictions,'r')"
   ]
  },
  {
   "cell_type": "code",
   "execution_count": null,
   "metadata": {},
   "outputs": [],
   "source": []
  }
 ],
 "metadata": {
  "kernelspec": {
   "display_name": "Python 3",
   "language": "python",
   "name": "python3"
  },
  "language_info": {
   "codemirror_mode": {
    "name": "ipython",
    "version": 3
   },
   "file_extension": ".py",
   "mimetype": "text/x-python",
   "name": "python",
   "nbconvert_exporter": "python",
   "pygments_lexer": "ipython3",
   "version": "3.7.3"
  }
 },
 "nbformat": 4,
 "nbformat_minor": 2
}
