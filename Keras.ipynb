{
 "cells": [
  {
   "cell_type": "code",
   "execution_count": 1,
   "metadata": {
    "scrolled": true
   },
   "outputs": [
    {
     "name": "stderr",
     "output_type": "stream",
     "text": [
      "C:\\Python\\Anaconda3\\lib\\site-packages\\tensorflow\\python\\framework\\dtypes.py:516: FutureWarning: Passing (type, 1) or '1type' as a synonym of type is deprecated; in a future version of numpy, it will be understood as (type, (1,)) / '(1,)type'.\n",
      "  _np_qint8 = np.dtype([(\"qint8\", np.int8, 1)])\n",
      "C:\\Python\\Anaconda3\\lib\\site-packages\\tensorflow\\python\\framework\\dtypes.py:517: FutureWarning: Passing (type, 1) or '1type' as a synonym of type is deprecated; in a future version of numpy, it will be understood as (type, (1,)) / '(1,)type'.\n",
      "  _np_quint8 = np.dtype([(\"quint8\", np.uint8, 1)])\n",
      "C:\\Python\\Anaconda3\\lib\\site-packages\\tensorflow\\python\\framework\\dtypes.py:518: FutureWarning: Passing (type, 1) or '1type' as a synonym of type is deprecated; in a future version of numpy, it will be understood as (type, (1,)) / '(1,)type'.\n",
      "  _np_qint16 = np.dtype([(\"qint16\", np.int16, 1)])\n",
      "C:\\Python\\Anaconda3\\lib\\site-packages\\tensorflow\\python\\framework\\dtypes.py:519: FutureWarning: Passing (type, 1) or '1type' as a synonym of type is deprecated; in a future version of numpy, it will be understood as (type, (1,)) / '(1,)type'.\n",
      "  _np_quint16 = np.dtype([(\"quint16\", np.uint16, 1)])\n",
      "C:\\Python\\Anaconda3\\lib\\site-packages\\tensorflow\\python\\framework\\dtypes.py:520: FutureWarning: Passing (type, 1) or '1type' as a synonym of type is deprecated; in a future version of numpy, it will be understood as (type, (1,)) / '(1,)type'.\n",
      "  _np_qint32 = np.dtype([(\"qint32\", np.int32, 1)])\n",
      "C:\\Python\\Anaconda3\\lib\\site-packages\\tensorflow\\python\\framework\\dtypes.py:525: FutureWarning: Passing (type, 1) or '1type' as a synonym of type is deprecated; in a future version of numpy, it will be understood as (type, (1,)) / '(1,)type'.\n",
      "  np_resource = np.dtype([(\"resource\", np.ubyte, 1)])\n",
      "C:\\Python\\Anaconda3\\lib\\site-packages\\tensorflow\\python\\framework\\dtypes.py:516: FutureWarning: Passing (type, 1) or '1type' as a synonym of type is deprecated; in a future version of numpy, it will be understood as (type, (1,)) / '(1,)type'.\n",
      "  _np_qint8 = np.dtype([(\"qint8\", np.int8, 1)])\n",
      "C:\\Python\\Anaconda3\\lib\\site-packages\\tensorflow\\python\\framework\\dtypes.py:517: FutureWarning: Passing (type, 1) or '1type' as a synonym of type is deprecated; in a future version of numpy, it will be understood as (type, (1,)) / '(1,)type'.\n",
      "  _np_quint8 = np.dtype([(\"quint8\", np.uint8, 1)])\n",
      "C:\\Python\\Anaconda3\\lib\\site-packages\\tensorflow\\python\\framework\\dtypes.py:518: FutureWarning: Passing (type, 1) or '1type' as a synonym of type is deprecated; in a future version of numpy, it will be understood as (type, (1,)) / '(1,)type'.\n",
      "  _np_qint16 = np.dtype([(\"qint16\", np.int16, 1)])\n",
      "C:\\Python\\Anaconda3\\lib\\site-packages\\tensorflow\\python\\framework\\dtypes.py:519: FutureWarning: Passing (type, 1) or '1type' as a synonym of type is deprecated; in a future version of numpy, it will be understood as (type, (1,)) / '(1,)type'.\n",
      "  _np_quint16 = np.dtype([(\"quint16\", np.uint16, 1)])\n",
      "C:\\Python\\Anaconda3\\lib\\site-packages\\tensorflow\\python\\framework\\dtypes.py:520: FutureWarning: Passing (type, 1) or '1type' as a synonym of type is deprecated; in a future version of numpy, it will be understood as (type, (1,)) / '(1,)type'.\n",
      "  _np_qint32 = np.dtype([(\"qint32\", np.int32, 1)])\n",
      "C:\\Python\\Anaconda3\\lib\\site-packages\\tensorflow\\python\\framework\\dtypes.py:525: FutureWarning: Passing (type, 1) or '1type' as a synonym of type is deprecated; in a future version of numpy, it will be understood as (type, (1,)) / '(1,)type'.\n",
      "  np_resource = np.dtype([(\"resource\", np.ubyte, 1)])\n",
      "C:\\Python\\Anaconda3\\lib\\site-packages\\tensorboard\\compat\\tensorflow_stub\\dtypes.py:541: FutureWarning: Passing (type, 1) or '1type' as a synonym of type is deprecated; in a future version of numpy, it will be understood as (type, (1,)) / '(1,)type'.\n",
      "  _np_qint8 = np.dtype([(\"qint8\", np.int8, 1)])\n",
      "C:\\Python\\Anaconda3\\lib\\site-packages\\tensorboard\\compat\\tensorflow_stub\\dtypes.py:542: FutureWarning: Passing (type, 1) or '1type' as a synonym of type is deprecated; in a future version of numpy, it will be understood as (type, (1,)) / '(1,)type'.\n",
      "  _np_quint8 = np.dtype([(\"quint8\", np.uint8, 1)])\n",
      "C:\\Python\\Anaconda3\\lib\\site-packages\\tensorboard\\compat\\tensorflow_stub\\dtypes.py:543: FutureWarning: Passing (type, 1) or '1type' as a synonym of type is deprecated; in a future version of numpy, it will be understood as (type, (1,)) / '(1,)type'.\n",
      "  _np_qint16 = np.dtype([(\"qint16\", np.int16, 1)])\n",
      "C:\\Python\\Anaconda3\\lib\\site-packages\\tensorboard\\compat\\tensorflow_stub\\dtypes.py:544: FutureWarning: Passing (type, 1) or '1type' as a synonym of type is deprecated; in a future version of numpy, it will be understood as (type, (1,)) / '(1,)type'.\n",
      "  _np_quint16 = np.dtype([(\"quint16\", np.uint16, 1)])\n",
      "C:\\Python\\Anaconda3\\lib\\site-packages\\tensorboard\\compat\\tensorflow_stub\\dtypes.py:545: FutureWarning: Passing (type, 1) or '1type' as a synonym of type is deprecated; in a future version of numpy, it will be understood as (type, (1,)) / '(1,)type'.\n",
      "  _np_qint32 = np.dtype([(\"qint32\", np.int32, 1)])\n",
      "C:\\Python\\Anaconda3\\lib\\site-packages\\tensorboard\\compat\\tensorflow_stub\\dtypes.py:550: FutureWarning: Passing (type, 1) or '1type' as a synonym of type is deprecated; in a future version of numpy, it will be understood as (type, (1,)) / '(1,)type'.\n",
      "  np_resource = np.dtype([(\"resource\", np.ubyte, 1)])\n",
      "C:\\Python\\Anaconda3\\lib\\site-packages\\tensorboard\\compat\\tensorflow_stub\\dtypes.py:541: FutureWarning: Passing (type, 1) or '1type' as a synonym of type is deprecated; in a future version of numpy, it will be understood as (type, (1,)) / '(1,)type'.\n",
      "  _np_qint8 = np.dtype([(\"qint8\", np.int8, 1)])\n",
      "C:\\Python\\Anaconda3\\lib\\site-packages\\tensorboard\\compat\\tensorflow_stub\\dtypes.py:542: FutureWarning: Passing (type, 1) or '1type' as a synonym of type is deprecated; in a future version of numpy, it will be understood as (type, (1,)) / '(1,)type'.\n",
      "  _np_quint8 = np.dtype([(\"quint8\", np.uint8, 1)])\n",
      "C:\\Python\\Anaconda3\\lib\\site-packages\\tensorboard\\compat\\tensorflow_stub\\dtypes.py:543: FutureWarning: Passing (type, 1) or '1type' as a synonym of type is deprecated; in a future version of numpy, it will be understood as (type, (1,)) / '(1,)type'.\n",
      "  _np_qint16 = np.dtype([(\"qint16\", np.int16, 1)])\n",
      "C:\\Python\\Anaconda3\\lib\\site-packages\\tensorboard\\compat\\tensorflow_stub\\dtypes.py:544: FutureWarning: Passing (type, 1) or '1type' as a synonym of type is deprecated; in a future version of numpy, it will be understood as (type, (1,)) / '(1,)type'.\n",
      "  _np_quint16 = np.dtype([(\"quint16\", np.uint16, 1)])\n",
      "C:\\Python\\Anaconda3\\lib\\site-packages\\tensorboard\\compat\\tensorflow_stub\\dtypes.py:545: FutureWarning: Passing (type, 1) or '1type' as a synonym of type is deprecated; in a future version of numpy, it will be understood as (type, (1,)) / '(1,)type'.\n",
      "  _np_qint32 = np.dtype([(\"qint32\", np.int32, 1)])\n",
      "C:\\Python\\Anaconda3\\lib\\site-packages\\tensorboard\\compat\\tensorflow_stub\\dtypes.py:550: FutureWarning: Passing (type, 1) or '1type' as a synonym of type is deprecated; in a future version of numpy, it will be understood as (type, (1,)) / '(1,)type'.\n",
      "  np_resource = np.dtype([(\"resource\", np.ubyte, 1)])\n"
     ]
    }
   ],
   "source": [
    "import tensorflow as tf"
   ]
  },
  {
   "cell_type": "code",
   "execution_count": 2,
   "metadata": {},
   "outputs": [],
   "source": [
    "from tensorflow.contrib.keras import models"
   ]
  },
  {
   "cell_type": "code",
   "execution_count": 3,
   "metadata": {},
   "outputs": [],
   "source": [
    "dnn_keras_model = models.Sequential()"
   ]
  },
  {
   "cell_type": "code",
   "execution_count": 4,
   "metadata": {},
   "outputs": [],
   "source": [
    "from tensorflow.contrib.keras import layers"
   ]
  },
  {
   "cell_type": "code",
   "execution_count": 5,
   "metadata": {},
   "outputs": [
    {
     "name": "stdout",
     "output_type": "stream",
     "text": [
      "WARNING:tensorflow:From C:\\Python\\Anaconda3\\lib\\site-packages\\tensorflow\\python\\ops\\init_ops.py:1251: calling VarianceScaling.__init__ (from tensorflow.python.ops.init_ops) with dtype is deprecated and will be removed in a future version.\n",
      "Instructions for updating:\n",
      "Call initializer instance with the dtype argument instead of passing it to the constructor\n",
      "WARNING:tensorflow:From C:\\Python\\Anaconda3\\lib\\site-packages\\tensorflow\\python\\ops\\init_ops.py:1251: calling VarianceScaling.__init__ (from tensorflow.python.ops.init_ops) with dtype is deprecated and will be removed in a future version.\n",
      "Instructions for updating:\n",
      "Call initializer instance with the dtype argument instead of passing it to the constructor\n"
     ]
    }
   ],
   "source": [
    "dnn_keras_model.add(layers.Dense(units = 13,input_dim = 13, activation = 'relu'))"
   ]
  },
  {
   "cell_type": "code",
   "execution_count": 6,
   "metadata": {},
   "outputs": [],
   "source": [
    "dnn_keras_model.add(layers.Dense(units = 13, activation = 'relu'))"
   ]
  },
  {
   "cell_type": "code",
   "execution_count": 7,
   "metadata": {},
   "outputs": [],
   "source": [
    "dnn_keras_model.add(layers.Dense(units = 13, activation = 'relu'))"
   ]
  },
  {
   "cell_type": "code",
   "execution_count": 8,
   "metadata": {},
   "outputs": [],
   "source": [
    "dnn_keras_model.add(layers.Dense(units = 3, activation = 'softmax'))"
   ]
  },
  {
   "cell_type": "code",
   "execution_count": 9,
   "metadata": {},
   "outputs": [],
   "source": [
    "from sklearn.datasets import load_wine"
   ]
  },
  {
   "cell_type": "code",
   "execution_count": 10,
   "metadata": {},
   "outputs": [],
   "source": [
    "wine_data = load_wine()"
   ]
  },
  {
   "cell_type": "code",
   "execution_count": 11,
   "metadata": {},
   "outputs": [],
   "source": [
    "feat_data = wine_data['data']\n",
    "labels = wine_data['target']"
   ]
  },
  {
   "cell_type": "code",
   "execution_count": 12,
   "metadata": {},
   "outputs": [],
   "source": [
    "from sklearn.model_selection import train_test_split"
   ]
  },
  {
   "cell_type": "code",
   "execution_count": 13,
   "metadata": {},
   "outputs": [],
   "source": [
    "X_train, X_test, y_train, y_test = train_test_split(feat_data, labels, test_size=0.3, random_state=101)"
   ]
  },
  {
   "cell_type": "code",
   "execution_count": 14,
   "metadata": {},
   "outputs": [],
   "source": [
    "from sklearn.preprocessing import MinMaxScaler"
   ]
  },
  {
   "cell_type": "code",
   "execution_count": 15,
   "metadata": {},
   "outputs": [],
   "source": [
    "scaler = MinMaxScaler()"
   ]
  },
  {
   "cell_type": "code",
   "execution_count": 16,
   "metadata": {},
   "outputs": [],
   "source": [
    "scaler_x_train = scaler.fit_transform(X_train)\n",
    "scaler_x_test = scaler.transform(X_test)"
   ]
  },
  {
   "cell_type": "code",
   "execution_count": 17,
   "metadata": {},
   "outputs": [],
   "source": [
    "dnn_keras_model.compile(optimizer= 'adam', loss = 'sparse_categorical_crossentropy', metrics=['accuracy'])"
   ]
  },
  {
   "cell_type": "code",
   "execution_count": 18,
   "metadata": {
    "scrolled": true
   },
   "outputs": [
    {
     "name": "stdout",
     "output_type": "stream",
     "text": [
      "Epoch 1/50\n",
      "Epoch 1/50\n",
      "124/124 [==============================] - 0s 3ms/sample - loss: 1.1191 - acc: 0.3065\n",
      "124/124 [==============================] - 0s 3ms/sample - loss: 1.1191 - acc: 0.3065\n",
      "Epoch 2/50\n",
      " 32/124 [======>.......................] - ETA: 0s - loss: 1.1016 - acc: 0.4062Epoch 2/50\n",
      "124/124 [==============================] - 0s 113us/sample - loss: 1.1044 - acc: 0.3468\n",
      "124/124 [==============================] - 0s 113us/sample - loss: 1.1044 - acc: 0.3468\n",
      "Epoch 3/50\n",
      " 32/124 [======>.......................] - ETA: 0s - loss: 1.0781 - acc: 0.4375Epoch 3/50\n",
      "124/124 [==============================] - 0s 113us/sample - loss: 1.0953 - acc: 0.3790\n",
      "124/124 [==============================] - 0s 113us/sample - loss: 1.0953 - acc: 0.3790\n",
      "Epoch 4/50\n",
      " 32/124 [======>.......................] - ETA: 0s - loss: 1.0744 - acc: 0.4688Epoch 4/50\n",
      "124/124 [==============================] - 0s 161us/sample - loss: 1.0872 - acc: 0.4758\n",
      "124/124 [==============================] - 0s 161us/sample - loss: 1.0872 - acc: 0.4758\n",
      "Epoch 5/50\n",
      " 32/124 [======>.......................] - ETA: 0s - loss: 1.0860 - acc: 0.4688Epoch 5/50\n",
      "124/124 [==============================] - 0s 121us/sample - loss: 1.0794 - acc: 0.5161\n",
      "124/124 [==============================] - 0s 121us/sample - loss: 1.0794 - acc: 0.5161\n",
      "Epoch 6/50\n",
      " 32/124 [======>.......................] - ETA: 0s - loss: 1.0770 - acc: 0.4688Epoch 6/50\n",
      "124/124 [==============================] - 0s 105us/sample - loss: 1.0726 - acc: 0.5484\n",
      "124/124 [==============================] - 0s 105us/sample - loss: 1.0726 - acc: 0.5484\n",
      "Epoch 7/50\n",
      " 32/124 [======>.......................] - ETA: 0s - loss: 1.0815 - acc: 0.4688Epoch 7/50\n",
      "124/124 [==============================] - 0s 97us/sample - loss: 1.0664 - acc: 0.5726\n",
      "124/124 [==============================] - 0s 97us/sample - loss: 1.0664 - acc: 0.5726\n",
      "Epoch 8/50\n",
      " 32/124 [======>.......................] - ETA: 0s - loss: 1.0704 - acc: 0.5000Epoch 8/50\n",
      "124/124 [==============================] - 0s 105us/sample - loss: 1.0601 - acc: 0.6129\n",
      "124/124 [==============================] - 0s 105us/sample - loss: 1.0601 - acc: 0.6129\n",
      "Epoch 9/50\n",
      " 32/124 [======>.......................] - ETA: 0s - loss: 1.0605 - acc: 0.5938Epoch 9/50\n",
      "124/124 [==============================] - 0s 137us/sample - loss: 1.0535 - acc: 0.6613\n",
      "124/124 [==============================] - 0s 137us/sample - loss: 1.0535 - acc: 0.6613\n",
      "Epoch 10/50\n",
      " 32/124 [======>.......................] - ETA: 0s - loss: 1.0625 - acc: 0.6875Epoch 10/50\n",
      "124/124 [==============================] - 0s 145us/sample - loss: 1.0465 - acc: 0.6532\n",
      "124/124 [==============================] - 0s 145us/sample - loss: 1.0465 - acc: 0.6532\n",
      "Epoch 11/50\n",
      " 32/124 [======>.......................] - ETA: 0s - loss: 1.0333 - acc: 0.6562Epoch 11/50\n",
      "124/124 [==============================] - 0s 105us/sample - loss: 1.0389 - acc: 0.6613\n",
      "124/124 [==============================] - 0s 105us/sample - loss: 1.0389 - acc: 0.6613\n",
      "Epoch 12/50\n",
      " 32/124 [======>.......................] - ETA: 0s - loss: 1.0352 - acc: 0.6250Epoch 12/50\n",
      "124/124 [==============================] - 0s 89us/sample - loss: 1.0306 - acc: 0.6855\n",
      "124/124 [==============================] - 0s 89us/sample - loss: 1.0306 - acc: 0.6855\n",
      "Epoch 13/50\n",
      " 32/124 [======>.......................] - ETA: 0s - loss: 0.9964 - acc: 0.6875Epoch 13/50\n",
      "124/124 [==============================] - 0s 105us/sample - loss: 1.0221 - acc: 0.7016\n",
      "124/124 [==============================] - 0s 105us/sample - loss: 1.0221 - acc: 0.7016\n",
      "Epoch 14/50\n",
      " 32/124 [======>.......................] - ETA: 0s - loss: 1.0267 - acc: 0.7812Epoch 14/50\n",
      "124/124 [==============================] - 0s 89us/sample - loss: 1.0121 - acc: 0.7016\n",
      "124/124 [==============================] - 0s 89us/sample - loss: 1.0121 - acc: 0.7016\n",
      "Epoch 15/50\n",
      " 32/124 [======>.......................] - ETA: 0s - loss: 1.0316 - acc: 0.5938Epoch 15/50\n",
      "124/124 [==============================] - 0s 153us/sample - loss: 1.0017 - acc: 0.7097\n",
      "124/124 [==============================] - 0s 153us/sample - loss: 1.0017 - acc: 0.7097\n",
      "Epoch 16/50\n",
      "Epoch 16/50\n",
      "124/124 [==============================] - 0s 121us/sample - loss: 0.9906 - acc: 0.7258\n",
      "124/124 [==============================] - 0s 121us/sample - loss: 0.9906 - acc: 0.7258\n",
      "Epoch 17/50\n",
      "Epoch 17/50\n",
      "124/124 [==============================] - 0s 105us/sample - loss: 0.9784 - acc: 0.7339\n",
      "124/124 [==============================] - 0s 105us/sample - loss: 0.9784 - acc: 0.7339\n",
      "Epoch 18/50Epoch 18/50\n",
      " 32/124 [======>.......................] - ETA: 0s - loss: 0.9463 - acc: 0.8125\n",
      "124/124 [==============================] - 0s 105us/sample - loss: 0.9653 - acc: 0.7339\n",
      "124/124 [==============================] - 0s 105us/sample - loss: 0.9653 - acc: 0.7339\n",
      "Epoch 19/50\n",
      "Epoch 19/50\n",
      "124/124 [==============================] - 0s 113us/sample - loss: 0.9504 - acc: 0.7258\n",
      "124/124 [==============================] - 0s 113us/sample - loss: 0.9504 - acc: 0.7258\n",
      "Epoch 20/50\n",
      " 32/124 [======>.......................] - ETA: 0s - loss: 0.9463 - acc: 0.7500Epoch 20/50\n",
      "124/124 [==============================] - 0s 105us/sample - loss: 0.9343 - acc: 0.7500\n",
      "124/124 [==============================] - 0s 105us/sample - loss: 0.9343 - acc: 0.7500\n",
      "Epoch 21/50\n",
      " 32/124 [======>.......................] - ETA: 0s - loss: 0.9073 - acc: 0.7812Epoch 21/50\n",
      "124/124 [==============================] - 0s 145us/sample - loss: 0.9182 - acc: 0.7823\n",
      "124/124 [==============================] - 0s 145us/sample - loss: 0.9182 - acc: 0.7823\n",
      "Epoch 22/50\n",
      " 32/124 [======>.......................] - ETA: 0s - loss: 0.9129 - acc: 0.7500Epoch 22/50\n",
      "124/124 [==============================] - 0s 121us/sample - loss: 0.8991 - acc: 0.7984\n",
      "124/124 [==============================] - 0s 121us/sample - loss: 0.8991 - acc: 0.7984\n",
      "Epoch 23/50\n",
      " 32/124 [======>.......................] - ETA: 0s - loss: 0.9326 - acc: 0.7812Epoch 23/50\n",
      "124/124 [==============================] - 0s 113us/sample - loss: 0.8785 - acc: 0.8145\n",
      "124/124 [==============================] - 0s 113us/sample - loss: 0.8785 - acc: 0.8145\n",
      "Epoch 24/50\n",
      " 32/124 [======>.......................] - ETA: 0s - loss: 0.8422 - acc: 0.8750Epoch 24/50\n",
      "124/124 [==============================] - 0s 97us/sample - loss: 0.8575 - acc: 0.8065\n",
      "124/124 [==============================] - 0s 97us/sample - loss: 0.8575 - acc: 0.8065\n",
      "Epoch 25/50\n",
      " 32/124 [======>.......................] - ETA: 0s - loss: 0.7953 - acc: 0.8125Epoch 25/50\n",
      "124/124 [==============================] - 0s 113us/sample - loss: 0.8352 - acc: 0.8306\n",
      "124/124 [==============================] - 0s 113us/sample - loss: 0.8352 - acc: 0.8306\n",
      "Epoch 26/50\n",
      " 32/124 [======>.......................] - ETA: 0s - loss: 0.8305 - acc: 0.7812Epoch 26/50\n",
      "124/124 [==============================] - 0s 121us/sample - loss: 0.8113 - acc: 0.8226\n",
      "124/124 [==============================] - 0s 121us/sample - loss: 0.8113 - acc: 0.8226\n",
      "Epoch 27/50\n",
      "Epoch 27/50\n",
      "124/124 [==============================] - 0s 137us/sample - loss: 0.7868 - acc: 0.8306\n",
      "124/124 [==============================] - 0s 137us/sample - loss: 0.7868 - acc: 0.8306\n",
      "Epoch 28/50\n",
      " 32/124 [======>.......................] - ETA: 0s - loss: 0.7501 - acc: 0.9375Epoch 28/50\n",
      "124/124 [==============================] - 0s 113us/sample - loss: 0.7615 - acc: 0.8468\n",
      "124/124 [==============================] - 0s 113us/sample - loss: 0.7615 - acc: 0.8468\n",
      "Epoch 29/50\n",
      " 32/124 [======>.......................] - ETA: 0s - loss: 0.7416 - acc: 0.8438Epoch 29/50\n",
      "124/124 [==============================] - 0s 113us/sample - loss: 0.7354 - acc: 0.8468\n",
      "124/124 [==============================] - 0s 113us/sample - loss: 0.7354 - acc: 0.8468\n",
      "Epoch 30/50\n",
      " 32/124 [======>.......................] - ETA: 0s - loss: 0.7270 - acc: 0.8125Epoch 30/50\n",
      "124/124 [==============================] - 0s 105us/sample - loss: 0.7104 - acc: 0.8468\n",
      "124/124 [==============================] - 0s 105us/sample - loss: 0.7104 - acc: 0.8468\n",
      "Epoch 31/50\n",
      " 32/124 [======>.......................] - ETA: 0s - loss: 0.6495 - acc: 0.8438Epoch 31/50\n",
      "124/124 [==============================] - 0s 97us/sample - loss: 0.6854 - acc: 0.8468\n",
      "124/124 [==============================] - 0s 97us/sample - loss: 0.6854 - acc: 0.8468\n",
      "Epoch 32/50\n",
      " 32/124 [======>.......................] - ETA: 0s - loss: 0.6609 - acc: 0.8438Epoch 32/50\n",
      "124/124 [==============================] - 0s 121us/sample - loss: 0.6602 - acc: 0.8629\n",
      "124/124 [==============================] - 0s 121us/sample - loss: 0.6602 - acc: 0.8629\n",
      "Epoch 33/50\n",
      " 32/124 [======>.......................] - ETA: 0s - loss: 0.6605 - acc: 0.8750Epoch 33/50\n",
      "124/124 [==============================] - 0s 153us/sample - loss: 0.6354 - acc: 0.8871\n",
      "124/124 [==============================] - 0s 153us/sample - loss: 0.6354 - acc: 0.8871\n",
      "Epoch 34/50\n",
      "Epoch 34/50\n",
      "124/124 [==============================] - 0s 121us/sample - loss: 0.6101 - acc: 0.8952\n",
      "124/124 [==============================] - 0s 121us/sample - loss: 0.6101 - acc: 0.8952\n",
      "Epoch 35/50\n",
      " 32/124 [======>.......................] - ETA: 0s - loss: 0.5532 - acc: 0.9375Epoch 35/50\n",
      "124/124 [==============================] - 0s 105us/sample - loss: 0.5863 - acc: 0.9113\n",
      "124/124 [==============================] - 0s 105us/sample - loss: 0.5863 - acc: 0.9113\n",
      "Epoch 36/50\n",
      " 32/124 [======>.......................] - ETA: 0s - loss: 0.6384 - acc: 0.8750Epoch 36/50\n",
      "124/124 [==============================] - 0s 105us/sample - loss: 0.5619 - acc: 0.9113\n",
      "124/124 [==============================] - 0s 105us/sample - loss: 0.5619 - acc: 0.9113\n",
      "Epoch 37/50\n",
      " 32/124 [======>.......................] - ETA: 0s - loss: 0.5866 - acc: 0.8750Epoch 37/50\n",
      "124/124 [==============================] - 0s 113us/sample - loss: 0.5382 - acc: 0.9194\n",
      "124/124 [==============================] - 0s 113us/sample - loss: 0.5382 - acc: 0.9194\n",
      "Epoch 38/50\n",
      " 32/124 [======>.......................] - ETA: 0s - loss: 0.4932 - acc: 0.9688Epoch 38/50\n",
      "124/124 [==============================] - 0s 153us/sample - loss: 0.5156 - acc: 0.9274\n",
      "124/124 [==============================] - 0s 153us/sample - loss: 0.5156 - acc: 0.9274\n",
      "Epoch 39/50\n",
      " 32/124 [======>.......................] - ETA: 0s - loss: 0.5319 - acc: 0.9688Epoch 39/50\n",
      "124/124 [==============================] - 0s 113us/sample - loss: 0.4938 - acc: 0.9274\n",
      "124/124 [==============================] - 0s 113us/sample - loss: 0.4938 - acc: 0.9274\n",
      "Epoch 40/50\n",
      " 32/124 [======>.......................] - ETA: 0s - loss: 0.4337 - acc: 0.9375Epoch 40/50\n",
      "124/124 [==============================] - 0s 89us/sample - loss: 0.4717 - acc: 0.9274\n",
      "124/124 [==============================] - 0s 89us/sample - loss: 0.4717 - acc: 0.9274\n",
      "Epoch 41/50\n",
      " 32/124 [======>.......................] - ETA: 0s - loss: 0.4461 - acc: 0.9688Epoch 41/50\n",
      "124/124 [==============================] - 0s 97us/sample - loss: 0.4504 - acc: 0.9274\n",
      "124/124 [==============================] - 0s 97us/sample - loss: 0.4504 - acc: 0.9274\n",
      "Epoch 42/50\n",
      " 32/124 [======>.......................] - ETA: 0s - loss: 0.4529 - acc: 0.9375Epoch 42/50\n",
      "124/124 [==============================] - 0s 97us/sample - loss: 0.4292 - acc: 0.9355\n",
      "124/124 [==============================] - 0s 97us/sample - loss: 0.4292 - acc: 0.9355\n",
      "Epoch 43/50\n",
      " 32/124 [======>.......................] - ETA: 0s - loss: 0.4241 - acc: 0.9062Epoch 43/50\n",
      "124/124 [==============================] - 0s 113us/sample - loss: 0.4090 - acc: 0.9355\n",
      "124/124 [==============================] - 0s 113us/sample - loss: 0.4090 - acc: 0.9355\n",
      "Epoch 44/50\n",
      "Epoch 44/50\n",
      "124/124 [==============================] - 0s 161us/sample - loss: 0.3887 - acc: 0.9355\n",
      "124/124 [==============================] - 0s 161us/sample - loss: 0.3887 - acc: 0.9355\n",
      "Epoch 45/50\n",
      " 32/124 [======>.......................] - ETA: 0s - loss: 0.3696 - acc: 0.9375Epoch 45/50\n",
      "124/124 [==============================] - 0s 105us/sample - loss: 0.3687 - acc: 0.9435\n",
      "124/124 [==============================] - 0s 105us/sample - loss: 0.3687 - acc: 0.9435\n",
      "Epoch 46/50\n",
      " 32/124 [======>.......................] - ETA: 0s - loss: 0.3964 - acc: 0.9062Epoch 46/50\n",
      "124/124 [==============================] - 0s 105us/sample - loss: 0.3505 - acc: 0.9516\n",
      "124/124 [==============================] - 0s 105us/sample - loss: 0.3505 - acc: 0.9516\n",
      "Epoch 47/50\n",
      " 32/124 [======>.......................] - ETA: 0s - loss: 0.3387 - acc: 0.9688Epoch 47/50\n",
      "124/124 [==============================] - 0s 105us/sample - loss: 0.3327 - acc: 0.9597\n",
      "124/124 [==============================] - 0s 105us/sample - loss: 0.3327 - acc: 0.9597\n",
      "Epoch 48/50\n",
      " 32/124 [======>.......................] - ETA: 0s - loss: 0.2939 - acc: 0.9688Epoch 48/50\n",
      "124/124 [==============================] - 0s 113us/sample - loss: 0.3162 - acc: 0.9516\n",
      "124/124 [==============================] - 0s 113us/sample - loss: 0.3162 - acc: 0.9516\n",
      "Epoch 49/50\n",
      " 32/124 [======>.......................] - ETA: 0s - loss: 0.3105 - acc: 1.0000Epoch 49/50\n",
      "124/124 [==============================] - 0s 169us/sample - loss: 0.3010 - acc: 0.9597\n",
      "124/124 [==============================] - 0s 169us/sample - loss: 0.3010 - acc: 0.9597\n",
      "Epoch 50/50\n",
      " 32/124 [======>.......................] - ETA: 0s - loss: 0.2950 - acc: 0.9375Epoch 50/50\n",
      "124/124 [==============================] - 0s 145us/sample - loss: 0.2865 - acc: 0.9516\n",
      "124/124 [==============================] - 0s 145us/sample - loss: 0.2865 - acc: 0.9516\n"
     ]
    },
    {
     "data": {
      "text/plain": [
       "<tensorflow.python.keras.callbacks.History at 0x25c29bfb198>"
      ]
     },
     "execution_count": 18,
     "metadata": {},
     "output_type": "execute_result"
    },
    {
     "data": {
      "text/plain": [
       "<tensorflow.python.keras.callbacks.History at 0x25c29bfb198>"
      ]
     },
     "execution_count": 18,
     "metadata": {},
     "output_type": "execute_result"
    }
   ],
   "source": [
    "dnn_keras_model.fit(scaler_x_train, y_train, epochs= 50)"
   ]
  },
  {
   "cell_type": "code",
   "execution_count": null,
   "metadata": {},
   "outputs": [],
   "source": []
  }
 ],
 "metadata": {
  "kernelspec": {
   "display_name": "Python 3",
   "language": "python",
   "name": "python3"
  },
  "language_info": {
   "codemirror_mode": {
    "name": "ipython",
    "version": 3
   },
   "file_extension": ".py",
   "mimetype": "text/x-python",
   "name": "python",
   "nbconvert_exporter": "python",
   "pygments_lexer": "ipython3",
   "version": "3.7.3"
  }
 },
 "nbformat": 4,
 "nbformat_minor": 4
}
